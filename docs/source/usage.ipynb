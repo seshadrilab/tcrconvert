{
 "cells": [
  {
   "cell_type": "markdown",
   "metadata": {},
   "source": [
    "# Basic usage"
   ]
  },
  {
   "cell_type": "markdown",
   "metadata": {},
   "source": [
    "**Load some 10X data**"
   ]
  },
  {
   "cell_type": "code",
   "execution_count": 2,
   "metadata": {},
   "outputs": [
    {
     "data": {
      "text/html": [
       "<div>\n",
       "<style scoped>\n",
       "    .dataframe tbody tr th:only-of-type {\n",
       "        vertical-align: middle;\n",
       "    }\n",
       "\n",
       "    .dataframe tbody tr th {\n",
       "        vertical-align: top;\n",
       "    }\n",
       "\n",
       "    .dataframe thead th {\n",
       "        text-align: right;\n",
       "    }\n",
       "</style>\n",
       "<table border=\"1\" class=\"dataframe\">\n",
       "  <thead>\n",
       "    <tr style=\"text-align: right;\">\n",
       "      <th></th>\n",
       "      <th>barcode</th>\n",
       "      <th>v_gene</th>\n",
       "      <th>d_gene</th>\n",
       "      <th>j_gene</th>\n",
       "      <th>c_gene</th>\n",
       "      <th>cdr3</th>\n",
       "    </tr>\n",
       "  </thead>\n",
       "  <tbody>\n",
       "    <tr>\n",
       "      <th>0</th>\n",
       "      <td>AAACCTGAGACCACGA-1</td>\n",
       "      <td>TRAV1-2</td>\n",
       "      <td>TRBD1</td>\n",
       "      <td>TRAJ12</td>\n",
       "      <td>TRAC</td>\n",
       "      <td>CAVMDSSYKLIF</td>\n",
       "    </tr>\n",
       "    <tr>\n",
       "      <th>1</th>\n",
       "      <td>AAACCTGAGACCACGA-1</td>\n",
       "      <td>TRBV6-1</td>\n",
       "      <td>TRBD2</td>\n",
       "      <td>TRBJ2-1</td>\n",
       "      <td>TRBC2</td>\n",
       "      <td>CASSGLAGGYNEQFF</td>\n",
       "    </tr>\n",
       "    <tr>\n",
       "      <th>2</th>\n",
       "      <td>AAACCTGAGGCTCTTA-1</td>\n",
       "      <td>TRBV6-4</td>\n",
       "      <td>TRBD2</td>\n",
       "      <td>TRBJ2-3</td>\n",
       "      <td>TRBC2</td>\n",
       "      <td>CASSGVAGGTDTQYF</td>\n",
       "    </tr>\n",
       "    <tr>\n",
       "      <th>3</th>\n",
       "      <td>AAACCTGAGGCTCTTA-1</td>\n",
       "      <td>TRAV1-2</td>\n",
       "      <td>TRBD1</td>\n",
       "      <td>TRAJ33</td>\n",
       "      <td>TRAC</td>\n",
       "      <td>CAVKDSNYQLIW</td>\n",
       "    </tr>\n",
       "    <tr>\n",
       "      <th>4</th>\n",
       "      <td>AAACCTGAGTGAACGC-1</td>\n",
       "      <td>TRBV2</td>\n",
       "      <td>TRBD1</td>\n",
       "      <td>TRBJ1-2</td>\n",
       "      <td>TRBC1</td>\n",
       "      <td>CASNQGLNYGYTF</td>\n",
       "    </tr>\n",
       "  </tbody>\n",
       "</table>\n",
       "</div>"
      ],
      "text/plain": [
       "              barcode   v_gene d_gene   j_gene c_gene             cdr3\n",
       "0  AAACCTGAGACCACGA-1  TRAV1-2  TRBD1   TRAJ12   TRAC     CAVMDSSYKLIF\n",
       "1  AAACCTGAGACCACGA-1  TRBV6-1  TRBD2  TRBJ2-1  TRBC2  CASSGLAGGYNEQFF\n",
       "2  AAACCTGAGGCTCTTA-1  TRBV6-4  TRBD2  TRBJ2-3  TRBC2  CASSGVAGGTDTQYF\n",
       "3  AAACCTGAGGCTCTTA-1  TRAV1-2  TRBD1   TRAJ33   TRAC     CAVKDSNYQLIW\n",
       "4  AAACCTGAGTGAACGC-1    TRBV2  TRBD1  TRBJ1-2  TRBC1    CASNQGLNYGYTF"
      ]
     },
     "execution_count": 2,
     "metadata": {},
     "output_type": "execute_result"
    }
   ],
   "source": [
    "import tcrconvert\n",
    "import pandas as pd\n",
    "from importlib.resources import files\n",
    "\n",
    "tcr_file = files('tcrconvert') / 'examples/example_10x.csv'\n",
    "\n",
    "tcrs = pd.read_csv(tcr_file)[['barcode', 'v_gene' , 'd_gene', 'j_gene', 'c_gene', 'cdr3']]\n",
    "tcrs"
   ]
  },
  {
   "cell_type": "markdown",
   "metadata": {},
   "source": [
    "**Convert gene names from the 10X format to the Adaptive format**"
   ]
  },
  {
   "cell_type": "code",
   "execution_count": 3,
   "metadata": {},
   "outputs": [
    {
     "name": "stdout",
     "output_type": "stream",
     "text": [
      "Warning: Converting from 10X which lacks allele info. Choosing *01 as allele for all genes.\n",
      "Warning: Adaptive only captures VDJ genes, any C genes will become NA.\n"
     ]
    },
    {
     "data": {
      "text/html": [
       "<div>\n",
       "<style scoped>\n",
       "    .dataframe tbody tr th:only-of-type {\n",
       "        vertical-align: middle;\n",
       "    }\n",
       "\n",
       "    .dataframe tbody tr th {\n",
       "        vertical-align: top;\n",
       "    }\n",
       "\n",
       "    .dataframe thead th {\n",
       "        text-align: right;\n",
       "    }\n",
       "</style>\n",
       "<table border=\"1\" class=\"dataframe\">\n",
       "  <thead>\n",
       "    <tr style=\"text-align: right;\">\n",
       "      <th></th>\n",
       "      <th>barcode</th>\n",
       "      <th>v_gene</th>\n",
       "      <th>d_gene</th>\n",
       "      <th>j_gene</th>\n",
       "      <th>c_gene</th>\n",
       "      <th>cdr3</th>\n",
       "    </tr>\n",
       "  </thead>\n",
       "  <tbody>\n",
       "    <tr>\n",
       "      <th>0</th>\n",
       "      <td>AAACCTGAGACCACGA-1</td>\n",
       "      <td>TCRAV01-02*01</td>\n",
       "      <td>TCRBD01-01*01</td>\n",
       "      <td>TCRAJ12-01*01</td>\n",
       "      <td>&lt;NA&gt;</td>\n",
       "      <td>CAVMDSSYKLIF</td>\n",
       "    </tr>\n",
       "    <tr>\n",
       "      <th>1</th>\n",
       "      <td>AAACCTGAGACCACGA-1</td>\n",
       "      <td>TCRBV06-01*01</td>\n",
       "      <td>TCRBD02-01*01</td>\n",
       "      <td>TCRBJ02-01*01</td>\n",
       "      <td>&lt;NA&gt;</td>\n",
       "      <td>CASSGLAGGYNEQFF</td>\n",
       "    </tr>\n",
       "    <tr>\n",
       "      <th>2</th>\n",
       "      <td>AAACCTGAGGCTCTTA-1</td>\n",
       "      <td>TCRBV06-04*01</td>\n",
       "      <td>TCRBD02-01*01</td>\n",
       "      <td>TCRBJ02-03*01</td>\n",
       "      <td>&lt;NA&gt;</td>\n",
       "      <td>CASSGVAGGTDTQYF</td>\n",
       "    </tr>\n",
       "    <tr>\n",
       "      <th>3</th>\n",
       "      <td>AAACCTGAGGCTCTTA-1</td>\n",
       "      <td>TCRAV01-02*01</td>\n",
       "      <td>TCRBD01-01*01</td>\n",
       "      <td>TCRAJ33-01*01</td>\n",
       "      <td>&lt;NA&gt;</td>\n",
       "      <td>CAVKDSNYQLIW</td>\n",
       "    </tr>\n",
       "    <tr>\n",
       "      <th>4</th>\n",
       "      <td>AAACCTGAGTGAACGC-1</td>\n",
       "      <td>TCRBV02-01*01</td>\n",
       "      <td>TCRBD01-01*01</td>\n",
       "      <td>TCRBJ01-02*01</td>\n",
       "      <td>&lt;NA&gt;</td>\n",
       "      <td>CASNQGLNYGYTF</td>\n",
       "    </tr>\n",
       "  </tbody>\n",
       "</table>\n",
       "</div>"
      ],
      "text/plain": [
       "              barcode         v_gene         d_gene         j_gene c_gene  \\\n",
       "0  AAACCTGAGACCACGA-1  TCRAV01-02*01  TCRBD01-01*01  TCRAJ12-01*01   <NA>   \n",
       "1  AAACCTGAGACCACGA-1  TCRBV06-01*01  TCRBD02-01*01  TCRBJ02-01*01   <NA>   \n",
       "2  AAACCTGAGGCTCTTA-1  TCRBV06-04*01  TCRBD02-01*01  TCRBJ02-03*01   <NA>   \n",
       "3  AAACCTGAGGCTCTTA-1  TCRAV01-02*01  TCRBD01-01*01  TCRAJ33-01*01   <NA>   \n",
       "4  AAACCTGAGTGAACGC-1  TCRBV02-01*01  TCRBD01-01*01  TCRBJ01-02*01   <NA>   \n",
       "\n",
       "              cdr3  \n",
       "0     CAVMDSSYKLIF  \n",
       "1  CASSGLAGGYNEQFF  \n",
       "2  CASSGVAGGTDTQYF  \n",
       "3     CAVKDSNYQLIW  \n",
       "4    CASNQGLNYGYTF  "
      ]
     },
     "execution_count": 3,
     "metadata": {},
     "output_type": "execute_result"
    }
   ],
   "source": [
    "new_tcrs = tcrconvert.convert_gene(tcrs, frm='tenx', to='adaptive')\n",
    "new_tcrs"
   ]
  },
  {
   "cell_type": "markdown",
   "metadata": {},
   "source": [
    "**Or convert to the IMGT format**"
   ]
  },
  {
   "cell_type": "code",
   "execution_count": 4,
   "metadata": {},
   "outputs": [
    {
     "name": "stdout",
     "output_type": "stream",
     "text": [
      "Warning: Converting from 10X which lacks allele info. Choosing *01 as allele for all genes.\n"
     ]
    },
    {
     "data": {
      "text/html": [
       "<div>\n",
       "<style scoped>\n",
       "    .dataframe tbody tr th:only-of-type {\n",
       "        vertical-align: middle;\n",
       "    }\n",
       "\n",
       "    .dataframe tbody tr th {\n",
       "        vertical-align: top;\n",
       "    }\n",
       "\n",
       "    .dataframe thead th {\n",
       "        text-align: right;\n",
       "    }\n",
       "</style>\n",
       "<table border=\"1\" class=\"dataframe\">\n",
       "  <thead>\n",
       "    <tr style=\"text-align: right;\">\n",
       "      <th></th>\n",
       "      <th>barcode</th>\n",
       "      <th>v_gene</th>\n",
       "      <th>d_gene</th>\n",
       "      <th>j_gene</th>\n",
       "      <th>c_gene</th>\n",
       "      <th>cdr3</th>\n",
       "    </tr>\n",
       "  </thead>\n",
       "  <tbody>\n",
       "    <tr>\n",
       "      <th>0</th>\n",
       "      <td>AAACCTGAGACCACGA-1</td>\n",
       "      <td>TRAV1-2*01</td>\n",
       "      <td>TRBD1*01</td>\n",
       "      <td>TRAJ12*01</td>\n",
       "      <td>TRAC*01</td>\n",
       "      <td>CAVMDSSYKLIF</td>\n",
       "    </tr>\n",
       "    <tr>\n",
       "      <th>1</th>\n",
       "      <td>AAACCTGAGACCACGA-1</td>\n",
       "      <td>TRBV6-1*01</td>\n",
       "      <td>TRBD2*01</td>\n",
       "      <td>TRBJ2-1*01</td>\n",
       "      <td>TRBC2*01</td>\n",
       "      <td>CASSGLAGGYNEQFF</td>\n",
       "    </tr>\n",
       "    <tr>\n",
       "      <th>2</th>\n",
       "      <td>AAACCTGAGGCTCTTA-1</td>\n",
       "      <td>TRBV6-4*01</td>\n",
       "      <td>TRBD2*01</td>\n",
       "      <td>TRBJ2-3*01</td>\n",
       "      <td>TRBC2*01</td>\n",
       "      <td>CASSGVAGGTDTQYF</td>\n",
       "    </tr>\n",
       "    <tr>\n",
       "      <th>3</th>\n",
       "      <td>AAACCTGAGGCTCTTA-1</td>\n",
       "      <td>TRAV1-2*01</td>\n",
       "      <td>TRBD1*01</td>\n",
       "      <td>TRAJ33*01</td>\n",
       "      <td>TRAC*01</td>\n",
       "      <td>CAVKDSNYQLIW</td>\n",
       "    </tr>\n",
       "    <tr>\n",
       "      <th>4</th>\n",
       "      <td>AAACCTGAGTGAACGC-1</td>\n",
       "      <td>TRBV2*01</td>\n",
       "      <td>TRBD1*01</td>\n",
       "      <td>TRBJ1-2*01</td>\n",
       "      <td>TRBC1*01</td>\n",
       "      <td>CASNQGLNYGYTF</td>\n",
       "    </tr>\n",
       "  </tbody>\n",
       "</table>\n",
       "</div>"
      ],
      "text/plain": [
       "              barcode      v_gene    d_gene      j_gene    c_gene  \\\n",
       "0  AAACCTGAGACCACGA-1  TRAV1-2*01  TRBD1*01   TRAJ12*01   TRAC*01   \n",
       "1  AAACCTGAGACCACGA-1  TRBV6-1*01  TRBD2*01  TRBJ2-1*01  TRBC2*01   \n",
       "2  AAACCTGAGGCTCTTA-1  TRBV6-4*01  TRBD2*01  TRBJ2-3*01  TRBC2*01   \n",
       "3  AAACCTGAGGCTCTTA-1  TRAV1-2*01  TRBD1*01   TRAJ33*01   TRAC*01   \n",
       "4  AAACCTGAGTGAACGC-1    TRBV2*01  TRBD1*01  TRBJ1-2*01  TRBC1*01   \n",
       "\n",
       "              cdr3  \n",
       "0     CAVMDSSYKLIF  \n",
       "1  CASSGLAGGYNEQFF  \n",
       "2  CASSGVAGGTDTQYF  \n",
       "3     CAVKDSNYQLIW  \n",
       "4    CASNQGLNYGYTF  "
      ]
     },
     "execution_count": 4,
     "metadata": {},
     "output_type": "execute_result"
    }
   ],
   "source": [
    "new_tcrs = tcrconvert.convert_gene(tcrs, frm='tenx', to='imgt')\n",
    "new_tcrs"
   ]
  },
  {
   "cell_type": "markdown",
   "metadata": {},
   "source": [
    "**Convert from IMGT back to 10X and see that no data is lost**"
   ]
  },
  {
   "cell_type": "code",
   "execution_count": 5,
   "metadata": {},
   "outputs": [
    {
     "name": "stdout",
     "output_type": "stream",
     "text": [
      "No column names provided for IMGT data, will assume 10X column names:\n",
      "('v_gene', 'd_gene', 'j_gene', 'c_gene')\n"
     ]
    },
    {
     "data": {
      "text/plain": [
       "True"
      ]
     },
     "execution_count": 5,
     "metadata": {},
     "output_type": "execute_result"
    }
   ],
   "source": [
    "back_tcrs = tcrconvert.convert_gene(new_tcrs, frm='imgt', to='tenx')\n",
    "\n",
    "back_tcrs.equals(tcrs)"
   ]
  },
  {
   "cell_type": "markdown",
   "metadata": {},
   "source": [
    "# Usage: Custom column names"
   ]
  },
  {
   "cell_type": "markdown",
   "metadata": {},
   "source": [
    "TCRconvert assumes the column names for V, D, J, and C genes based on the input format.\n",
    "\n",
    "`'tenx'`\n",
    "\n",
    "* `v_gene`\n",
    "* `d_gene`\n",
    "* `j_gene`\n",
    "* `c_gene`\n",
    "\n",
    "Note that Adaptive does not capture C genes:\n",
    "\n",
    "`'adaptive'`\n",
    "\n",
    "* `v_resolved`\n",
    "* `d_resolved`\n",
    "* `j_resolved`\n",
    "\n",
    "`'adaptivev2'`\n",
    "\n",
    "* `vMaxResolved`\n",
    "* `dMaxResolved`\n",
    "* `jMaxResolved`\n",
    "\n",
    "IMGT does not use standard column names, so we assume 10X names:\n",
    "\n",
    "`'imgt'`\n",
    "\n",
    "* `v_gene`\n",
    "* `d_gene`\n",
    "* `j_gene`\n",
    "* `c_gene`"
   ]
  },
  {
   "cell_type": "markdown",
   "metadata": {},
   "source": [
    "> *What if my Adaptive data doesn't have x_resolved or xMaxResolved columns?*\n",
    "> \n",
    "> Simply make them yourself by combining the gene and allele columns using `*` as a seperator. Then proceed with TCRconvert."
   ]
  },
  {
   "cell_type": "markdown",
   "metadata": {},
   "source": [
    "**Sometimes you have your own column names**"
   ]
  },
  {
   "cell_type": "code",
   "execution_count": 10,
   "metadata": {},
   "outputs": [
    {
     "data": {
      "text/html": [
       "<div>\n",
       "<style scoped>\n",
       "    .dataframe tbody tr th:only-of-type {\n",
       "        vertical-align: middle;\n",
       "    }\n",
       "\n",
       "    .dataframe tbody tr th {\n",
       "        vertical-align: top;\n",
       "    }\n",
       "\n",
       "    .dataframe thead th {\n",
       "        text-align: right;\n",
       "    }\n",
       "</style>\n",
       "<table border=\"1\" class=\"dataframe\">\n",
       "  <thead>\n",
       "    <tr style=\"text-align: right;\">\n",
       "      <th></th>\n",
       "      <th>myVgene</th>\n",
       "      <th>myDgene</th>\n",
       "      <th>myJgene</th>\n",
       "      <th>myCgene</th>\n",
       "      <th>myCDR3</th>\n",
       "      <th>antigen</th>\n",
       "    </tr>\n",
       "  </thead>\n",
       "  <tbody>\n",
       "    <tr>\n",
       "      <th>0</th>\n",
       "      <td>TRAV1-2</td>\n",
       "      <td>TRBD1</td>\n",
       "      <td>TRAJ12</td>\n",
       "      <td>TRAC</td>\n",
       "      <td>CAVMDSSYKLIF</td>\n",
       "      <td>Flu</td>\n",
       "    </tr>\n",
       "    <tr>\n",
       "      <th>1</th>\n",
       "      <td>TRBV6-1</td>\n",
       "      <td>TRBD2</td>\n",
       "      <td>TRBJ2-1</td>\n",
       "      <td>TRBC2</td>\n",
       "      <td>CASSGLAGGYNEQFF</td>\n",
       "      <td>Flu</td>\n",
       "    </tr>\n",
       "    <tr>\n",
       "      <th>2</th>\n",
       "      <td>TRBV6-4</td>\n",
       "      <td>TRBD2</td>\n",
       "      <td>TRBJ2-3</td>\n",
       "      <td>TRBC2</td>\n",
       "      <td>CASSGVAGGTDTQYF</td>\n",
       "      <td>CMV</td>\n",
       "    </tr>\n",
       "    <tr>\n",
       "      <th>3</th>\n",
       "      <td>TRAV1-2</td>\n",
       "      <td>TRBD1</td>\n",
       "      <td>TRAJ33</td>\n",
       "      <td>TRAC</td>\n",
       "      <td>CAVKDSNYQLIW</td>\n",
       "      <td>CMV</td>\n",
       "    </tr>\n",
       "    <tr>\n",
       "      <th>4</th>\n",
       "      <td>TRBV2</td>\n",
       "      <td>TRBD1</td>\n",
       "      <td>TRBJ1-2</td>\n",
       "      <td>TRBC1</td>\n",
       "      <td>CASNQGLNYGYTF</td>\n",
       "      <td>CMV</td>\n",
       "    </tr>\n",
       "  </tbody>\n",
       "</table>\n",
       "</div>"
      ],
      "text/plain": [
       "   myVgene myDgene  myJgene myCgene           myCDR3 antigen\n",
       "0  TRAV1-2   TRBD1   TRAJ12    TRAC     CAVMDSSYKLIF     Flu\n",
       "1  TRBV6-1   TRBD2  TRBJ2-1   TRBC2  CASSGLAGGYNEQFF     Flu\n",
       "2  TRBV6-4   TRBD2  TRBJ2-3   TRBC2  CASSGVAGGTDTQYF     CMV\n",
       "3  TRAV1-2   TRBD1   TRAJ33    TRAC     CAVKDSNYQLIW     CMV\n",
       "4    TRBV2   TRBD1  TRBJ1-2   TRBC1    CASNQGLNYGYTF     CMV"
      ]
     },
     "execution_count": 10,
     "metadata": {},
     "output_type": "execute_result"
    }
   ],
   "source": [
    "custom_file = tcr_file = files('tcrconvert') / 'examples/example_columns.csv'\n",
    "\n",
    "custom = pd.read_csv(custom_file)\n",
    "custom"
   ]
  },
  {
   "cell_type": "markdown",
   "metadata": {},
   "source": [
    "**Specify the V, D, J, and C column names with** `frm_cols` "
   ]
  },
  {
   "cell_type": "code",
   "execution_count": 14,
   "metadata": {},
   "outputs": [
    {
     "name": "stdout",
     "output_type": "stream",
     "text": [
      "Warning: Converting from 10X which lacks allele info. Choosing *01 as allele for all genes.\n",
      "Warning: Using these custom column names:\n",
      " ['myVgene', 'myDgene', 'myJgene', 'myCgene']\n"
     ]
    },
    {
     "data": {
      "text/html": [
       "<div>\n",
       "<style scoped>\n",
       "    .dataframe tbody tr th:only-of-type {\n",
       "        vertical-align: middle;\n",
       "    }\n",
       "\n",
       "    .dataframe tbody tr th {\n",
       "        vertical-align: top;\n",
       "    }\n",
       "\n",
       "    .dataframe thead th {\n",
       "        text-align: right;\n",
       "    }\n",
       "</style>\n",
       "<table border=\"1\" class=\"dataframe\">\n",
       "  <thead>\n",
       "    <tr style=\"text-align: right;\">\n",
       "      <th></th>\n",
       "      <th>myVgene</th>\n",
       "      <th>myDgene</th>\n",
       "      <th>myJgene</th>\n",
       "      <th>myCgene</th>\n",
       "      <th>myCDR3</th>\n",
       "      <th>antigen</th>\n",
       "    </tr>\n",
       "  </thead>\n",
       "  <tbody>\n",
       "    <tr>\n",
       "      <th>0</th>\n",
       "      <td>TRAV1-2*01</td>\n",
       "      <td>TRBD1*01</td>\n",
       "      <td>TRAJ12*01</td>\n",
       "      <td>TRAC*01</td>\n",
       "      <td>CAVMDSSYKLIF</td>\n",
       "      <td>Flu</td>\n",
       "    </tr>\n",
       "    <tr>\n",
       "      <th>1</th>\n",
       "      <td>TRBV6-1*01</td>\n",
       "      <td>TRBD2*01</td>\n",
       "      <td>TRBJ2-1*01</td>\n",
       "      <td>TRBC2*01</td>\n",
       "      <td>CASSGLAGGYNEQFF</td>\n",
       "      <td>Flu</td>\n",
       "    </tr>\n",
       "    <tr>\n",
       "      <th>2</th>\n",
       "      <td>TRBV6-4*01</td>\n",
       "      <td>TRBD2*01</td>\n",
       "      <td>TRBJ2-3*01</td>\n",
       "      <td>TRBC2*01</td>\n",
       "      <td>CASSGVAGGTDTQYF</td>\n",
       "      <td>CMV</td>\n",
       "    </tr>\n",
       "    <tr>\n",
       "      <th>3</th>\n",
       "      <td>TRAV1-2*01</td>\n",
       "      <td>TRBD1*01</td>\n",
       "      <td>TRAJ33*01</td>\n",
       "      <td>TRAC*01</td>\n",
       "      <td>CAVKDSNYQLIW</td>\n",
       "      <td>CMV</td>\n",
       "    </tr>\n",
       "    <tr>\n",
       "      <th>4</th>\n",
       "      <td>TRBV2*01</td>\n",
       "      <td>TRBD1*01</td>\n",
       "      <td>TRBJ1-2*01</td>\n",
       "      <td>TRBC1*01</td>\n",
       "      <td>CASNQGLNYGYTF</td>\n",
       "      <td>CMV</td>\n",
       "    </tr>\n",
       "  </tbody>\n",
       "</table>\n",
       "</div>"
      ],
      "text/plain": [
       "      myVgene   myDgene     myJgene   myCgene           myCDR3 antigen\n",
       "0  TRAV1-2*01  TRBD1*01   TRAJ12*01   TRAC*01     CAVMDSSYKLIF     Flu\n",
       "1  TRBV6-1*01  TRBD2*01  TRBJ2-1*01  TRBC2*01  CASSGLAGGYNEQFF     Flu\n",
       "2  TRBV6-4*01  TRBD2*01  TRBJ2-3*01  TRBC2*01  CASSGVAGGTDTQYF     CMV\n",
       "3  TRAV1-2*01  TRBD1*01   TRAJ33*01   TRAC*01     CAVKDSNYQLIW     CMV\n",
       "4    TRBV2*01  TRBD1*01  TRBJ1-2*01  TRBC1*01    CASNQGLNYGYTF     CMV"
      ]
     },
     "execution_count": 14,
     "metadata": {},
     "output_type": "execute_result"
    }
   ],
   "source": [
    "custom_new = tcrconvert.convert_gene(custom, frm='tenx', to='imgt',\n",
    "                                     frm_cols=['myVgene', 'myDgene', 'myJgene', 'myCgene'])\n",
    "custom_new"
   ]
  },
  {
   "cell_type": "markdown",
   "metadata": {},
   "source": [
    "# Usage: Rhesus or mouse"
   ]
  },
  {
   "cell_type": "markdown",
   "metadata": {},
   "source": [
    "**Specify that the species is rhesus macaque or mouse if needed**"
   ]
  },
  {
   "cell_type": "code",
   "execution_count": null,
   "metadata": {},
   "outputs": [
    {
     "name": "stdout",
     "output_type": "stream",
     "text": [
      "Warning: Converting from 10X which lacks allele info. Choosing *01 as allele for all genes.\n",
      "Warning: Adaptive only captures VDJ genes, any C genes will become NA.\n",
      "Warning: These genes are not in IMGT and will be replaced with NA.\n",
      " {'TRBV2'}\n"
     ]
    }
   ],
   "source": [
    "new_tcrs = tcrconvert.convert_gene(tcrs, frm='tenx', to='adaptive', \n",
    "                                   species='rhesus')  # or 'mouse'"
   ]
  }
 ],
 "metadata": {
  "kernelspec": {
   "display_name": "tcrconvert",
   "language": "python",
   "name": "python3"
  },
  "language_info": {
   "codemirror_mode": {
    "name": "ipython",
    "version": 3
   },
   "file_extension": ".py",
   "mimetype": "text/x-python",
   "name": "python",
   "nbconvert_exporter": "python",
   "pygments_lexer": "ipython3",
   "version": "3.12.5"
  }
 },
 "nbformat": 4,
 "nbformat_minor": 2
}
