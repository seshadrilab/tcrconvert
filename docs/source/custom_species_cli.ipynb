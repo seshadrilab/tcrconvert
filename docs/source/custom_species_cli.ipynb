{
 "cells": [
  {
   "cell_type": "markdown",
   "metadata": {},
   "source": [
    "# Command-line: Custom Species"
   ]
  },
  {
   "cell_type": "markdown",
   "metadata": {},
   "source": [
    "By default, `TCRconvert` supports alpha-beta and gamma-delta V, D, J, and C genes for human, mouse, and rhesus macaque from the IMGT F+ORF+in-frame P references. For other species, follow these steps:"
   ]
  },
  {
   "cell_type": "markdown",
   "metadata": {},
   "source": [
    "### 1. Create a folder of IMGT FASTA files\n",
    "\n",
    "The simplest way is to download from [IMGT](https://www.imgt.org/vquest/refseqh.html).\n",
    "\n",
    "**Details:**\n",
    "\n",
    "`TCRconvert` expects a folder containing files ending in `.fasta` or `.fa` with headers in the IMGT format:\n",
    "\n",
    "```\n",
    ">SomeText|TRBV10-1*02|MoreText|...\n",
    "```\n",
    "\n",
    "The sequences are not used, so a text file containing headers and ending in `.fa` would also work."
   ]
  },
  {
   "cell_type": "markdown",
   "metadata": {},
   "source": [
    "### 2. Run `build`\n",
    "\n",
    "The `--species`/`-s` flag should be followed by the species name you'll use when running `convert`.\n",
    "\n",
    "Here we're using our example directory of fasta files as input."
   ]
  },
  {
   "cell_type": "code",
   "execution_count": 1,
   "metadata": {},
   "outputs": [
    {
     "name": "stdout",
     "output_type": "stream",
     "text": [
      "Lookup table written to: /Users/emmabishop/Library/Application Support/tcrconvert/rabbit\n"
     ]
    }
   ],
   "source": [
    "!tcrconvert build \\\n",
    "    --input ../../tcrconvert/examples/fasta_dir \\\n",
    "    --species rabbit"
   ]
  }
 ],
 "metadata": {
  "kernelspec": {
   "display_name": "tcrconvert",
   "language": "python",
   "name": "python3"
  },
  "language_info": {
   "codemirror_mode": {
    "name": "ipython",
    "version": 3
   },
   "file_extension": ".py",
   "mimetype": "text/x-python",
   "name": "python",
   "nbconvert_exporter": "python",
   "pygments_lexer": "ipython3",
   "version": "3.12.5"
  }
 },
 "nbformat": 4,
 "nbformat_minor": 2
}
