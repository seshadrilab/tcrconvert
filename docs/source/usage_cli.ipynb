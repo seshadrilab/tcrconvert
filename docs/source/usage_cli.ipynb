{
 "cells": [
  {
   "cell_type": "markdown",
   "metadata": {},
   "source": [
    "# Usage (command-line)"
   ]
  },
  {
   "cell_type": "markdown",
   "metadata": {},
   "source": [
    "## Basic usage"
   ]
  },
  {
   "cell_type": "markdown",
   "metadata": {},
   "source": [
    "TCRconvert takes a `.csv` or `.tsv` file with at least one column of gene names as input. It produces a `.csv` or `.tsv` file with converted gene names as output."
   ]
  },
  {
   "cell_type": "markdown",
   "metadata": {},
   "source": [
    "**First, download the [folder](https://github.com/seshadrilab/tcrconvert/tree/1-add-cli/tcrconvert/examples) of example data from GitHub.** In this example I've cloned the entire repo into `~/workspace`."
   ]
  },
  {
   "cell_type": "markdown",
   "metadata": {},
   "source": [
    "**Inspect our input 10X data**"
   ]
  },
  {
   "cell_type": "code",
   "execution_count": 1,
   "metadata": {},
   "outputs": [
    {
     "name": "stdout",
     "output_type": "stream",
     "text": [
      "barcode,is_cell,contig_id,high_confidence,length,chain,v_gene,d_gene,j_gene,c_gene,full_length,productive,cdr3,cdr3_nt,reads,umis,raw_clonotype_id,raw_consensus_id\n",
      "AAACCTGAGACCACGA-1,TRUE,AAACCTGAGACCACGA-1_contig_1,TRUE,521,TRA,TRAV1-2,TRBD1,TRAJ12,TRAC,TRUE,TRUE,CAVMDSSYKLIF,TGTGCTGTGATGGATAGCAGCTATAAATTGATCTTC,1569,2,clonotype16,clonotype16_consensus_1\n",
      "AAACCTGAGACCACGA-1,TRUE,AAACCTGAGACCACGA-1_contig_3,TRUE,584,TRB,TRBV6-1,TRBD2,TRBJ2-1,TRBC2,TRUE,TRUE,CASSGLAGGYNEQFF,TGTGCCAGCAGTGGACTAGCGGGGGGCTACAATGAGCAGTTCTTC,5238,7,clonotype16,clonotype16_consensus_2\n",
      "AAACCTGAGGCTCTTA-1,TRUE,AAACCTGAGGCTCTTA-1_contig_1,TRUE,551,TRB,TRBV6-4,TRBD2,TRBJ2-3,TRBC2,TRUE,TRUE,CASSGVAGGTDTQYF,TGTGCCAGCAGTGGGGTAGCGGGAGGCACAGATACGCAGTATTTT,3846,4,clonotype26,clonotype26_consensus_2\n",
      "AAACCTGAGGCTCTTA-1,TRUE,AAACCTGAGGCTCTTA-1_contig_2,TRUE,518,TRA,TRAV1-2,TRBD1,TRAJ33,TRAC,TRUE,TRUE,CAVKDSNYQLIW,TGTGCTGTGAAGGATAGCAACTATCAGTTAATCTGG,2019,2,clonotype26,clonotype26_consensus_1\n",
      "AAACCTGAGTGAACGC-1,TRUE,AAACCTGAGTGAACGC-1_contig_1,TRUE,674,TRB,TRBV2,TRBD1,TRBJ1-2,TRBC1,TRUE,TRUE,CASNQGLNYGYTF,TGTGCCAGCAATCAGGGCCTTAACTATGGCTACACCTTC,3002,6,clonotype81,clonotype81_consensus_2\n"
     ]
    }
   ],
   "source": [
    "!cat ~/workspace/tcrconvert/tcrconvert/examples/tenx.csv"
   ]
  },
  {
   "cell_type": "markdown",
   "metadata": {},
   "source": [
    "**Convert gene names from 10X to Adaptive...**"
   ]
  },
  {
   "cell_type": "code",
   "execution_count": 2,
   "metadata": {},
   "outputs": [
    {
     "name": "stdout",
     "output_type": "stream",
     "text": [
      "Reading input file /home/emmabishop/workspace/tcrconvert/tcrconvert/examples/tenx.csv\n",
      "Converting gene names from tenx to adaptive\n",
      "WARNING - Adaptive only captures VDJ genes, any C genes will become NA.\n",
      "WARNING - Converting from 10X which lacks allele info. Choosing *01 as allele for all genes.\n",
      "Writing output to /home/emmabishop/workspace/tcrconvert/tcrconvert/examples/tenx2adapt.tsv\n"
     ]
    }
   ],
   "source": [
    "!tcrconvert convert \\\n",
    "    -i ~/workspace/tcrconvert/tcrconvert/examples/tenx.csv \\\n",
    "    -o ~/workspace/tcrconvert/tcrconvert/examples/tenx2adapt.tsv \\\n",
    "    --frm tenx \\\n",
    "    --to adaptive"
   ]
  },
  {
   "cell_type": "markdown",
   "metadata": {},
   "source": [
    "> Tip: Suppress warnings by including the `-q` / `--quiet` flag.\n",
    "\n",
    "> Tip: You can experiment with enabling [tab completion](https://click.palletsprojects.com/en/stable/shell-completion/) for subcommands."
   ]
  },
  {
   "cell_type": "code",
   "execution_count": 3,
   "metadata": {},
   "outputs": [
    {
     "name": "stdout",
     "output_type": "stream",
     "text": [
      "barcode\tis_cell\tcontig_id\thigh_confidence\tlength\tchain\tv_gene\td_gene\tj_gene\tc_gene\tfull_length\tproductive\tcdr3\tcdr3_nt\treads\tumis\traw_clonotype_id\traw_consensus_id\n",
      "AAACCTGAGACCACGA-1\tTRUE\tAAACCTGAGACCACGA-1_contig_1\tTRUE\t521\tTRA\tTCRAV01-02*01\tTCRBD01-01*01\tTCRAJ12-01*01\t\tTRUE\tTRUE\tCAVMDSSYKLIF\tTGTGCTGTGATGGATAGCAGCTATAAATTGATCTTC\t1569\t2\tclonotype16\tclonotype16_consensus_1\n",
      "AAACCTGAGACCACGA-1\tTRUE\tAAACCTGAGACCACGA-1_contig_3\tTRUE\t584\tTRB\tTCRBV06-01*01\tTCRBD02-01*01\tTCRBJ02-01*01\t\tTRUE\tTRUE\tCASSGLAGGYNEQFF\tTGTGCCAGCAGTGGACTAGCGGGGGGCTACAATGAGCAGTTCTTC\t5238\t7\tclonotype16\tclonotype16_consensus_2\n",
      "AAACCTGAGGCTCTTA-1\tTRUE\tAAACCTGAGGCTCTTA-1_contig_1\tTRUE\t551\tTRB\tTCRBV06-04*01\tTCRBD02-01*01\tTCRBJ02-03*01\t\tTRUE\tTRUE\tCASSGVAGGTDTQYF\tTGTGCCAGCAGTGGGGTAGCGGGAGGCACAGATACGCAGTATTTT\t3846\t4\tclonotype26\tclonotype26_consensus_2\n",
      "AAACCTGAGGCTCTTA-1\tTRUE\tAAACCTGAGGCTCTTA-1_contig_2\tTRUE\t518\tTRA\tTCRAV01-02*01\tTCRBD01-01*01\tTCRAJ33-01*01\t\tTRUE\tTRUE\tCAVKDSNYQLIW\tTGTGCTGTGAAGGATAGCAACTATCAGTTAATCTGG\t2019\t2\tclonotype26\tclonotype26_consensus_1\n",
      "AAACCTGAGTGAACGC-1\tTRUE\tAAACCTGAGTGAACGC-1_contig_1\tTRUE\t674\tTRB\tTCRBV02-01*01\tTCRBD01-01*01\tTCRBJ01-02*01\t\tTRUE\tTRUE\tCASNQGLNYGYTF\tTGTGCCAGCAATCAGGGCCTTAACTATGGCTACACCTTC\t3002\t6\tclonotype81\tclonotype81_consensus_2\n"
     ]
    }
   ],
   "source": [
    "!cat ~/workspace/tcrconvert/tcrconvert/examples/tenx2adapt.tsv"
   ]
  },
  {
   "cell_type": "markdown",
   "metadata": {},
   "source": [
    "**...or to IMGT.**"
   ]
  },
  {
   "cell_type": "code",
   "execution_count": 4,
   "metadata": {},
   "outputs": [
    {
     "name": "stdout",
     "output_type": "stream",
     "text": [
      "Reading input file /home/emmabishop/workspace/tcrconvert/tcrconvert/examples/tenx.csv\n",
      "Converting gene names from tenx to imgt\n",
      "WARNING - Converting from 10X which lacks allele info. Choosing *01 as allele for all genes.\n",
      "Writing output to /home/emmabishop/workspace/tcrconvert/tcrconvert/examples/tenx2imgt.csv\n"
     ]
    }
   ],
   "source": [
    "!tcrconvert convert \\\n",
    "    -i ~/workspace/tcrconvert/tcrconvert/examples/tenx.csv \\\n",
    "    -o ~/workspace/tcrconvert/tcrconvert/examples/tenx2imgt.csv \\\n",
    "    --frm tenx \\\n",
    "    --to imgt"
   ]
  },
  {
   "cell_type": "code",
   "execution_count": 5,
   "metadata": {},
   "outputs": [
    {
     "name": "stdout",
     "output_type": "stream",
     "text": [
      "barcode,is_cell,contig_id,high_confidence,length,chain,v_gene,d_gene,j_gene,c_gene,full_length,productive,cdr3,cdr3_nt,reads,umis,raw_clonotype_id,raw_consensus_id\n",
      "AAACCTGAGACCACGA-1,TRUE,AAACCTGAGACCACGA-1_contig_1,TRUE,521,TRA,TRAV1-2*01,TRBD1*01,TRAJ12*01,TRAC*01,TRUE,TRUE,CAVMDSSYKLIF,TGTGCTGTGATGGATAGCAGCTATAAATTGATCTTC,1569,2,clonotype16,clonotype16_consensus_1\n",
      "AAACCTGAGACCACGA-1,TRUE,AAACCTGAGACCACGA-1_contig_3,TRUE,584,TRB,TRBV6-1*01,TRBD2*01,TRBJ2-1*01,TRBC2*01,TRUE,TRUE,CASSGLAGGYNEQFF,TGTGCCAGCAGTGGACTAGCGGGGGGCTACAATGAGCAGTTCTTC,5238,7,clonotype16,clonotype16_consensus_2\n",
      "AAACCTGAGGCTCTTA-1,TRUE,AAACCTGAGGCTCTTA-1_contig_1,TRUE,551,TRB,TRBV6-4*01,TRBD2*01,TRBJ2-3*01,TRBC2*01,TRUE,TRUE,CASSGVAGGTDTQYF,TGTGCCAGCAGTGGGGTAGCGGGAGGCACAGATACGCAGTATTTT,3846,4,clonotype26,clonotype26_consensus_2\n",
      "AAACCTGAGGCTCTTA-1,TRUE,AAACCTGAGGCTCTTA-1_contig_2,TRUE,518,TRA,TRAV1-2*01,TRBD1*01,TRAJ33*01,TRAC*01,TRUE,TRUE,CAVKDSNYQLIW,TGTGCTGTGAAGGATAGCAACTATCAGTTAATCTGG,2019,2,clonotype26,clonotype26_consensus_1\n",
      "AAACCTGAGTGAACGC-1,TRUE,AAACCTGAGTGAACGC-1_contig_1,TRUE,674,TRB,TRBV2*01,TRBD1*01,TRBJ1-2*01,TRBC1*01,TRUE,TRUE,CASNQGLNYGYTF,TGTGCCAGCAATCAGGGCCTTAACTATGGCTACACCTTC,3002,6,clonotype81,clonotype81_consensus_2\n"
     ]
    }
   ],
   "source": [
    "!cat ~/workspace/tcrconvert/tcrconvert/examples/tenx2imgt.csv"
   ]
  },
  {
   "cell_type": "markdown",
   "metadata": {},
   "source": [
    "**Convert back to 10X to see that no data is lost.**"
   ]
  },
  {
   "cell_type": "code",
   "execution_count": 6,
   "metadata": {},
   "outputs": [
    {
     "name": "stdout",
     "output_type": "stream",
     "text": [
      "Reading input file /home/emmabishop/workspace/tcrconvert/tcrconvert/examples/tenx2imgt.csv\n",
      "Converting gene names from imgt to tenx\n",
      "Writing output to /home/emmabishop/workspace/tcrconvert/tcrconvert/examples/imgt2tenx.csv\n"
     ]
    }
   ],
   "source": [
    "!tcrconvert convert \\\n",
    "    -i ~/workspace/tcrconvert/tcrconvert/examples/tenx2imgt.csv \\\n",
    "    -o ~/workspace/tcrconvert/tcrconvert/examples/imgt2tenx.csv \\\n",
    "    --frm imgt \\\n",
    "    --to tenx"
   ]
  },
  {
   "cell_type": "code",
   "execution_count": 7,
   "metadata": {},
   "outputs": [],
   "source": [
    "!diff ~/workspace/tcrconvert/tcrconvert/examples/imgt2tenx.csv \\\n",
    "      ~/workspace/tcrconvert/tcrconvert/examples/tenx.csv"
   ]
  },
  {
   "cell_type": "markdown",
   "metadata": {},
   "source": [
    "## Custom column names"
   ]
  },
  {
   "cell_type": "markdown",
   "metadata": {},
   "source": [
    "TCRconvert uses the gene column names below based on the `frm` parameter. Note that there are no standard IMGT column names and that Adaptive does not capture C genes.\n",
    "\n",
    "* `--frm imgt` uses `v_gene`, `d_gene`, `j_gene`, `c_gene`\n",
    "* `--frm tenx` uses `v_gene`, `d_gene`, `j_gene`, `c_gene`\n",
    "* `--frm adaptive` uses `v_resolved`, `d_resolved`, `j_resolved`\n",
    "* `--frm adaptivev2` uses `vMaxResolved`, `dMaxResolved`, `jMaxResolved`\n",
    "\n",
    "At least one of the assumed columns needs to be in the input data. You can use your own columns with the `-c` / `--frm_cols` flag."
   ]
  },
  {
   "cell_type": "markdown",
   "metadata": {},
   "source": [
    ">For AIRR files, use column names `v_call`, `d_call`, `j_call`, `c_call`"
   ]
  },
  {
   "cell_type": "markdown",
   "metadata": {},
   "source": [
    "**Inspect our 10X-format data:**"
   ]
  },
  {
   "cell_type": "code",
   "execution_count": 8,
   "metadata": {},
   "outputs": [
    {
     "name": "stdout",
     "output_type": "stream",
     "text": [
      "myVgene,myDgene,myJgene,myCgene,myCDR3,antigen\n",
      "TRAV1-2,TRBD1,TRAJ12,TRAC,CAVMDSSYKLIF,Flu\n",
      "TRBV6-1,TRBD2,TRBJ2-1,TRBC2,CASSGLAGGYNEQFF,Flu\n",
      "TRBV6-4,TRBD2,TRBJ2-3,TRBC2,CASSGVAGGTDTQYF,CMV\n",
      "TRAV1-2,TRBD1,TRAJ33,TRAC,CAVKDSNYQLIW,CMV\n",
      "TRBV2,TRBD1,TRBJ1-2,TRBC1,CASNQGLNYGYTF,CMV\n"
     ]
    }
   ],
   "source": [
    "!cat ~/workspace/tcrconvert/tcrconvert/examples/customcols.csv"
   ]
  },
  {
   "cell_type": "markdown",
   "metadata": {},
   "source": [
    "**Specify gene column names using `-c` / `--frm_cols` and convert to IMGT**:\n",
    "\n",
    "Note that you need to list each one individually"
   ]
  },
  {
   "cell_type": "code",
   "execution_count": 9,
   "metadata": {},
   "outputs": [
    {
     "name": "stdout",
     "output_type": "stream",
     "text": [
      "Reading input file /home/emmabishop/workspace/tcrconvert/tcrconvert/examples/customcols.csv\n",
      "Converting gene names from tenx to imgt\n",
      "WARNING - Converting from 10X which lacks allele info. Choosing *01 as allele for all genes.\n",
      "Writing output to /home/emmabishop/workspace/tcrconvert/tcrconvert/examples/custom2imgt.csv\n"
     ]
    }
   ],
   "source": [
    "!tcrconvert convert \\\n",
    "    -i ~/workspace/tcrconvert/tcrconvert/examples/customcols.csv \\\n",
    "    -o ~/workspace/tcrconvert/tcrconvert/examples/custom2imgt.csv \\\n",
    "    --frm tenx \\\n",
    "    --to imgt \\\n",
    "    -c myVgene \\\n",
    "    -c myDgene \\\n",
    "    -c myJgene \\\n",
    "    -c myCgene"
   ]
  },
  {
   "cell_type": "code",
   "execution_count": 10,
   "metadata": {},
   "outputs": [
    {
     "name": "stdout",
     "output_type": "stream",
     "text": [
      "myVgene,myDgene,myJgene,myCgene,myCDR3,antigen\n",
      "TRAV1-2*01,TRBD1*01,TRAJ12*01,TRAC*01,CAVMDSSYKLIF,Flu\n",
      "TRBV6-1*01,TRBD2*01,TRBJ2-1*01,TRBC2*01,CASSGLAGGYNEQFF,Flu\n",
      "TRBV6-4*01,TRBD2*01,TRBJ2-3*01,TRBC2*01,CASSGVAGGTDTQYF,CMV\n",
      "TRAV1-2*01,TRBD1*01,TRAJ33*01,TRAC*01,CAVKDSNYQLIW,CMV\n",
      "TRBV2*01,TRBD1*01,TRBJ1-2*01,TRBC1*01,CASNQGLNYGYTF,CMV\n"
     ]
    }
   ],
   "source": [
    "!cat ~/workspace/tcrconvert/tcrconvert/examples/custom2imgt.csv"
   ]
  },
  {
   "cell_type": "markdown",
   "metadata": {},
   "source": [
    "> Tip: If your Adaptive data doesn't have `x_resolved` or `xMaxResolved` columns simply make them yourself by combining text from the gene and allele columns using `*` as a seperator."
   ]
  },
  {
   "cell_type": "markdown",
   "metadata": {},
   "source": [
    "## Rhesus or mouse data"
   ]
  },
  {
   "cell_type": "markdown",
   "metadata": {},
   "source": [
    "**Specify the species if not human using the `-s`/ `--species` flag:**\n",
    "\n",
    "Note that TRBV2 is not a rhesus macaque gene"
   ]
  },
  {
   "cell_type": "code",
   "execution_count": 11,
   "metadata": {},
   "outputs": [
    {
     "name": "stdout",
     "output_type": "stream",
     "text": [
      "Reading input file /home/emmabishop/workspace/tcrconvert/tcrconvert/examples/tenx.csv\n",
      "Converting gene names from tenx to adaptive\n",
      "WARNING - Adaptive only captures VDJ genes, any C genes will become NA.\n",
      "WARNING - Converting from 10X which lacks allele info. Choosing *01 as allele for all genes.\n",
      "WARNING - These genes are not in IMGT for this species and will be replaced with NA:\n",
      " ['TRBV2']\n",
      "Writing output to /home/emmabishop/workspace/tcrconvert/tcrconvert/examples/tenx2adapt.tsv\n"
     ]
    }
   ],
   "source": [
    "!tcrconvert convert \\\n",
    "    -i ~/workspace/tcrconvert/tcrconvert/examples/tenx.csv \\\n",
    "    -o ~/workspace/tcrconvert/tcrconvert/examples/tenx2adapt.tsv \\\n",
    "    --frm tenx \\\n",
    "    --to adaptive \\\n",
    "    -s rhesus  # or mouse"
   ]
  },
  {
   "cell_type": "markdown",
   "metadata": {},
   "source": [
    "## Using a custom reference"
   ]
  },
  {
   "cell_type": "markdown",
   "metadata": {},
   "source": [
    "**You may want to create a reference for a species that isn't already included**, such as rabbit. To do so, you'll need FASTA files that contain TCR gene names in the headers in this format:\n",
    "\n",
    "```\n",
    ">SomeText|TRBV10-1*02|MoreText|...\n",
    "```\n",
    "\n",
    "1. The simplest way to do this is to download reference FASTAs for every gene group from [IMGT](https://www.imgt.org/vquest/refseqh.html).\n",
    "\n",
    "2. Save the FASTAs to a new species folder under `tcrconvert/data/` (e.g., `tcrconvert/data/rabbit/`).\n",
    "\n",
    "3. Then, run `$ tcrconvert build` from any location to create the lookup tables in that folder:\n",
    "\n",
    "```\n",
    "$ tcrconvert build path/to/tcrconvert/tcrconvert/data/rabbit/\n",
    "```\n",
    "\n",
    "4. Re-install TCRconvert:\n",
    "\n",
    "```\n",
    "$ pip install .\n",
    "```\n",
    "\n",
    "5. When using `convert`, specify the name of the new folder for `-s` / `--species`. E.g. `--species rabbit`\n",
    "\n",
    "**If you just want to add genes to the existing lookup tables** you can edit the CSV files under `tcrconvert/data/` and then re-install tcrconvert. This is a bit hacky, and if you `git pull` your work may be overwritten."
   ]
  }
 ],
 "metadata": {
  "kernelspec": {
   "display_name": "tcrconvert",
   "language": "python",
   "name": "python3"
  },
  "language_info": {
   "codemirror_mode": {
    "name": "ipython",
    "version": 3
   },
   "file_extension": ".py",
   "mimetype": "text/x-python",
   "name": "python",
   "nbconvert_exporter": "python",
   "pygments_lexer": "ipython3",
   "version": "3.12.4"
  }
 },
 "nbformat": 4,
 "nbformat_minor": 2
}
