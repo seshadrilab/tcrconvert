{
 "cells": [
  {
   "cell_type": "markdown",
   "metadata": {},
   "source": [
    "# Command-line: Quick Start"
   ]
  },
  {
   "cell_type": "markdown",
   "metadata": {},
   "source": [
    "## Basic usage"
   ]
  },
  {
   "cell_type": "markdown",
   "metadata": {},
   "source": [
    "#### 1. Inspect input (optional)"
   ]
  },
  {
   "cell_type": "code",
   "execution_count": 15,
   "metadata": {},
   "outputs": [
    {
     "name": "stdout",
     "output_type": "stream",
     "text": [
      "barcode             is_cell  contig_id                    high_confidence  length  chain  v_gene        d_gene  j_gene   c_gene  full_length  productive  cdr3             cdr3_nt                                        reads  umis  raw_clonotype_id  raw_consensus_id\n",
      "AAACCTGAGACCACGA-1  TRUE     AAACCTGAGACCACGA-1_contig_1  TRUE             521     TRA    TRAV29DV5     NA      TRAJ12   TRAC    TRUE         TRUE        CAVMDSSYKLIF     TGTGCTGTGATGGATAGCAGCTATAAATTGATCTTC           1569   2     clonotype16       clonotype16_consensus_1\n",
      "AAACCTGAGACCACGA-1  TRUE     AAACCTGAGACCACGA-1_contig_3  TRUE             584     TRB    TRBV20/OR9-2  TRBD2   TRBJ2-1  TRBC2   TRUE         TRUE        CASSGLAGGYNEQFF  TGTGCCAGCAGTGGACTAGCGGGGGGCTACAATGAGCAGTTCTTC  5238   7     clonotype16       clonotype16_consensus_2\n",
      "AAACCTGAGGCTCTTA-1  TRUE     AAACCTGAGGCTCTTA-1_contig_1  TRUE             551     TRD    TRDV2         TRDD2   TRDJ3    TRDC    TRUE         TRUE        CASSGVAGGTDTQYF  TGTGCCAGCAGTGGGGTAGCGGGAGGCACAGATACGCAGTATTTT  3846   4     clonotype26       clonotype26_consensus_2\n",
      "AAACCTGAGGCTCTTA-1  TRUE     AAACCTGAGGCTCTTA-1_contig_2  TRUE             518     TRG    TRGV9         NA      TRGJ1    TRGC2   TRUE         TRUE        CAVKDSNYQLIW     TGTGCTGTGAAGGATAGCAACTATCAGTTAATCTGG           2019   2     clonotype26       clonotype26_consensus_1\n"
     ]
    }
   ],
   "source": [
    "!head ../../tcrconvert/examples/tenx.csv | column -t -s,"
   ]
  },
  {
   "cell_type": "markdown",
   "metadata": {},
   "source": [
    "#### 2. Use the `convert` subcommand"
   ]
  },
  {
   "cell_type": "code",
   "execution_count": 12,
   "metadata": {},
   "outputs": [
    {
     "name": "stdout",
     "output_type": "stream",
     "text": [
      "Reading input file /Users/emmabishop/workspace/tcrconvert/tcrconvert/examples/tenx.csv\n",
      "Converting gene names from tenx to adaptive\n",
      "WARNING - Adaptive only captures VDJ genes; C genes will be NA.\n",
      "INFO - Converting from 10X. Using *01 as allele for all genes.\n",
      "Writing output to /Users/emmabishop/workspace/tcrconvert/tcrconvert/examples/tenx2adapt.tsv\n"
     ]
    }
   ],
   "source": [
    "!tcrconvert convert \\\n",
    "    --input ../../tcrconvert/examples/tenx.csv \\\n",
    "    --output ../../tcrconvert/examples/tenx2adapt.tsv \\\n",
    "    --frm tenx \\\n",
    "    --to adaptive"
   ]
  },
  {
   "cell_type": "markdown",
   "metadata": {},
   "source": [
    "**Flags**:\n",
    "\n",
    "- `--input`/`-i`: Input file (CSV or TSV)\n",
    "\n",
    "- `--output`/`-o`: Output file (CSV or TSV)\n",
    "\n",
    "- `--frm`/`-f`: Input TCR gene format (`tenx`, `adaptive`, `adaptivev2`, or `imgt`)\n",
    "\n",
    "- `--to`/`-t`: Output TCR gene format(`tenx`, `adaptive`, `adaptivev2`, or `imgt`)"
   ]
  },
  {
   "cell_type": "markdown",
   "metadata": {},
   "source": [
    "> **Tip**: Suppress INFO-level messages by setting `verbose=False`. Warnings and errors will still appear.\n",
    "\n",
    "> **Tip**: If your Adaptive data lacks `x_resolved`/`xMaxResolved` columns, create them yourself by combining the `x_gene`/`xGeneName` and `x_allele`/`xGeneAllele` columns. See the FAQs."
   ]
  },
  {
   "cell_type": "markdown",
   "metadata": {},
   "source": [
    "#### 3. Inspect output (optional)"
   ]
  },
  {
   "cell_type": "code",
   "execution_count": 3,
   "metadata": {},
   "outputs": [
    {
     "name": "stdout",
     "output_type": "stream",
     "text": [
      "barcode             is_cell  contig_id                    high_confidence  length  chain  v_gene              d_gene         j_gene         c_gene  full_length   productive                            cdr3                                           cdr3_nt  reads        umis                     raw_clonotype_id         raw_consensus_id\n",
      "AAACCTGAGACCACGA-1  TRUE     AAACCTGAGACCACGA-1_contig_1  TRUE             521     TRA    TCRAV29-01*01       TCRAJ12-01*01  TRUE           TRUE    CAVMDSSYKLIF  TGTGCTGTGATGGATAGCAGCTATAAATTGATCTTC  1569                                           2        clonotype16  clonotype16_consensus_1\n",
      "AAACCTGAGACCACGA-1  TRUE     AAACCTGAGACCACGA-1_contig_3  TRUE             584     TRB    TCRBV20-or09_02*01  TCRBD02-01*01  TCRBJ02-01*01  TRUE    TRUE          CASSGLAGGYNEQFF                       TGTGCCAGCAGTGGACTAGCGGGGGGCTACAATGAGCAGTTCTTC  5238     7            clonotype16              clonotype16_consensus_2\n",
      "AAACCTGAGGCTCTTA-1  TRUE     AAACCTGAGGCTCTTA-1_contig_1  TRUE             551     TRD    TCRDV02-01*01       TCRDD02-01*01  TCRDJ03-01*01  TRUE    TRUE          CASSGVAGGTDTQYF                       TGTGCCAGCAGTGGGGTAGCGGGAGGCACAGATACGCAGTATTTT  3846     4            clonotype26              clonotype26_consensus_2\n",
      "AAACCTGAGGCTCTTA-1  TRUE     AAACCTGAGGCTCTTA-1_contig_2  TRUE             518     TRG    TCRGV09-01*01       TCRGJ01-01*01  TRUE           TRUE    CAVKDSNYQLIW  TGTGCTGTGAAGGATAGCAACTATCAGTTAATCTGG  2019                                           2        clonotype26  clonotype26_consensus_1\n"
     ]
    }
   ],
   "source": [
    "!head ../../tcrconvert/examples/tenx2adapt.tsv | column -t"
   ]
  },
  {
   "cell_type": "markdown",
   "metadata": {},
   "source": [
    "## AIRR data"
   ]
  },
  {
   "cell_type": "markdown",
   "metadata": {},
   "source": [
    "Supply the standard AIRR gene column names individually as custom columns:\n",
    "\n",
    "- `--custom`/`-c`: Custom gene column name\n",
    "\n",
    "```bash\n",
    "$ tcrconvert convert -i airr.csv -o out.csv --frm tenx --to imgt \\\n",
    "    -c v_call \\\n",
    "    -c d_call \\\n",
    "    -c j_call \\\n",
    "    -c c_call\n",
    "```"
   ]
  },
  {
   "cell_type": "markdown",
   "metadata": {},
   "source": [
    "## Custom column names"
   ]
  },
  {
   "cell_type": "markdown",
   "metadata": {},
   "source": [
    "By default, `TCRconvert` assumes these column names based on the input nomenclature (`--frm`/`-f`):\n",
    "\n",
    "- `--frm imgt` = `['v_gene', 'd_gene', 'j_gene', 'c_gene']`\n",
    "\n",
    "- `--frm tenx` = `['v_gene', 'd_gene', 'j_gene', 'c_gene']`\n",
    "\n",
    "- `--frm adaptive` = `['v_resolved', 'd_resolved', 'j_resolved']`\n",
    "\n",
    "- `--frm adaptivev2` = `['vMaxResolved', 'dMaxResolved', 'jMaxResolved']`\n",
    "\n",
    "You can override these columns using the `--custom`/`-c` flag:"
   ]
  },
  {
   "cell_type": "markdown",
   "metadata": {},
   "source": [
    "#### 1. Inspect input 10X data with custom column names (optional)"
   ]
  },
  {
   "cell_type": "code",
   "execution_count": 4,
   "metadata": {},
   "outputs": [
    {
     "name": "stdout",
     "output_type": "stream",
     "text": [
      "myVgene  myDgene  myJgene  myCgene  myCDR3           antigen\n",
      "TRAV1-2  TRBD1    TRAJ12   TRAC     CAVMDSSYKLIF     Flu\n",
      "TRBV6-1  TRBD2    TRBJ2-1  TRBC2    CASSGLAGGYNEQFF  Flu\n",
      "TRBV6-4  TRBD2    TRBJ2-3  TRBC2    CASSGVAGGTDTQYF  CMV\n",
      "TRAV1-2  TRBD1    TRAJ33   TRAC     CAVKDSNYQLIW     CMV\n",
      "TRBV2    TRBD1    TRBJ1-2  TRBC1    CASNQGLNYGYTF    CMV\n"
     ]
    }
   ],
   "source": [
    "!head ../../tcrconvert/examples/customcols.csv | column -t -s,"
   ]
  },
  {
   "cell_type": "markdown",
   "metadata": {},
   "source": [
    "#### 2. Convert to IMGT, specifying columns with `--custom`/`-c`"
   ]
  },
  {
   "cell_type": "code",
   "execution_count": null,
   "metadata": {},
   "outputs": [],
   "source": [
    "!tcrconvert convert \\\n",
    "    -i ../../tcrconvert/examples/customcols.csv \\\n",
    "    -o ../../tcrconvert/examples/custom2imgt.csv \\\n",
    "    --frm tenx \\\n",
    "    --to imgt \\\n",
    "    --verbose False \\\n",
    "    -c myVgene \\\n",
    "    -c myDgene \\\n",
    "    -c myJgene \\\n",
    "    -c myCgene"
   ]
  },
  {
   "cell_type": "markdown",
   "metadata": {},
   "source": [
    "#### 3. Inspect output (optional)"
   ]
  },
  {
   "cell_type": "code",
   "execution_count": 8,
   "metadata": {},
   "outputs": [
    {
     "name": "stdout",
     "output_type": "stream",
     "text": [
      "myVgene     myDgene   myJgene     myCgene   myCDR3           antigen\n",
      "TRAV1-2*01  TRBD1*01  TRAJ12*01   TRAC*01   CAVMDSSYKLIF     Flu\n",
      "TRBV6-1*01  TRBD2*01  TRBJ2-1*01  TRBC2*01  CASSGLAGGYNEQFF  Flu\n",
      "TRBV6-4*01  TRBD2*01  TRBJ2-3*01  TRBC2*01  CASSGVAGGTDTQYF  CMV\n",
      "TRAV1-2*01  TRBD1*01  TRAJ33*01   TRAC*01   CAVKDSNYQLIW     CMV\n",
      "TRBV2*01    TRBD1*01  TRBJ1-2*01  TRBC1*01  CASNQGLNYGYTF    CMV\n"
     ]
    }
   ],
   "source": [
    "!head ../../tcrconvert/examples/custom2imgt.csv | column -t -s,"
   ]
  },
  {
   "cell_type": "markdown",
   "metadata": {},
   "source": [
    "## Rhesus or mouse data"
   ]
  },
  {
   "cell_type": "markdown",
   "metadata": {},
   "source": [
    "Use the `--species`/`-s` flag:"
   ]
  },
  {
   "cell_type": "code",
   "execution_count": 10,
   "metadata": {},
   "outputs": [
    {
     "name": "stdout",
     "output_type": "stream",
     "text": [
      "WARNING - Adaptive only captures VDJ genes; C genes will be NA.\n",
      "WARNING - These genes are not in IMGT for this species and will be replaced with NA:\n",
      " ['TRAV29DV5', 'TRBV20/OR9-2', 'TRGJ1']\n"
     ]
    }
   ],
   "source": [
    "!tcrconvert convert \\\n",
    "    -i ../../tcrconvert/examples/tenx.csv \\\n",
    "    -o ../../tcrconvert/examples/tenx2adapt.tsv \\\n",
    "    --frm tenx \\\n",
    "    --to adaptive \\\n",
    "    --verbose False \\\n",
    "    -s rhesus  # or mouse"
   ]
  }
 ],
 "metadata": {
  "kernelspec": {
   "display_name": "tcrconvert",
   "language": "python",
   "name": "python3"
  },
  "language_info": {
   "codemirror_mode": {
    "name": "ipython",
    "version": 3
   },
   "file_extension": ".py",
   "mimetype": "text/x-python",
   "name": "python",
   "nbconvert_exporter": "python",
   "pygments_lexer": "ipython3",
   "version": "3.12.4"
  }
 },
 "nbformat": 4,
 "nbformat_minor": 2
}
