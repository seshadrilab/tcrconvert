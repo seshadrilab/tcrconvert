{
 "cells": [
  {
   "cell_type": "markdown",
   "metadata": {},
   "source": [
    "# Usage (command-line)"
   ]
  },
  {
   "cell_type": "markdown",
   "metadata": {},
   "source": [
    "## Basic usage"
   ]
  },
  {
   "cell_type": "markdown",
   "metadata": {},
   "source": [
    "TCRconvert takes a `.csv` or `.tsv` file with at least one column of gene names as input. It produces a `.csv` or `.tsv` file with converted gene names as output."
   ]
  },
  {
   "cell_type": "markdown",
   "metadata": {},
   "source": [
    "**First, download the [folder](https://github.com/seshadrilab/tcrconvert/tree/1-add-cli/tcrconvert/examples) of example data from GitHub.** In this example I've cloned the entire repo into `~/workspace`."
   ]
  },
  {
   "cell_type": "markdown",
   "metadata": {},
   "source": [
    "**Inspect our input 10X data**"
   ]
  },
  {
   "cell_type": "code",
   "execution_count": null,
   "metadata": {},
   "outputs": [],
   "source": [
    "!cat ../../tcrconvert/examples/tenx.csv"
   ]
  },
  {
   "cell_type": "markdown",
   "metadata": {},
   "source": [
    "**Convert gene names from 10X to Adaptive...**"
   ]
  },
  {
   "cell_type": "code",
   "execution_count": null,
   "metadata": {},
   "outputs": [],
   "source": [
    "!tcrconvert convert \\\n",
    "    -i ../../tcrconvert/examples/tenx.csv \\\n",
    "    -o ../../tcrconvert/examples/tenx2adapt.tsv \\\n",
    "    --frm tenx \\\n",
    "    --to adaptive"
   ]
  },
  {
   "cell_type": "markdown",
   "metadata": {},
   "source": [
    "> Tip: Suppress warnings by including the `-q` / `--quiet` flag.\n",
    "\n",
    "> Tip: You can experiment with enabling [tab completion](https://click.palletsprojects.com/en/stable/shell-completion/) for subcommands."
   ]
  },
  {
   "cell_type": "code",
   "execution_count": null,
   "metadata": {},
   "outputs": [],
   "source": [
    "!cat ../../tcrconvert/examples/tenx2adapt.tsv"
   ]
  },
  {
   "cell_type": "markdown",
   "metadata": {},
   "source": [
    "**...or to IMGT.**"
   ]
  },
  {
   "cell_type": "code",
   "execution_count": null,
   "metadata": {},
   "outputs": [],
   "source": [
    "!tcrconvert convert \\\n",
    "    -i ../../tcrconvert/examples/tenx.csv \\\n",
    "    -o ../../tcrconvert/examples/tenx2imgt.csv \\\n",
    "    --frm tenx \\\n",
    "    --to imgt"
   ]
  },
  {
   "cell_type": "code",
   "execution_count": null,
   "metadata": {},
   "outputs": [],
   "source": [
    "!cat ../../tcrconvert/examples/tenx2imgt.csv"
   ]
  },
  {
   "cell_type": "markdown",
   "metadata": {},
   "source": [
    "**Convert back to 10X to see that no data is lost.**"
   ]
  },
  {
   "cell_type": "code",
   "execution_count": null,
   "metadata": {},
   "outputs": [],
   "source": [
    "!tcrconvert convert \\\n",
    "    -i ../../tcrconvert/examples/tenx2imgt.csv \\\n",
    "    -o ../../tcrconvert/examples/imgt2tenx.csv \\\n",
    "    --frm imgt \\\n",
    "    --to tenx"
   ]
  },
  {
   "cell_type": "code",
   "execution_count": null,
   "metadata": {},
   "outputs": [],
   "source": [
    "!diff ../../tcrconvert/examples/imgt2tenx.csv \\\n",
    "      ../../tcrconvert/examples/tenx.csv"
   ]
  },
  {
   "cell_type": "markdown",
   "metadata": {},
   "source": [
    "## Custom column names"
   ]
  },
  {
   "cell_type": "markdown",
   "metadata": {},
   "source": [
    "TCRconvert uses the gene column names below based on the `frm` parameter. Note that there are no standard IMGT column names and that Adaptive does not capture C genes.\n",
    "\n",
    "* `--frm imgt` uses `v_gene`, `d_gene`, `j_gene`, `c_gene`\n",
    "* `--frm tenx` uses `v_gene`, `d_gene`, `j_gene`, `c_gene`\n",
    "* `--frm adaptive` uses `v_resolved`, `d_resolved`, `j_resolved`\n",
    "* `--frm adaptivev2` uses `vMaxResolved`, `dMaxResolved`, `jMaxResolved`\n",
    "\n",
    "At least one of the assumed columns needs to be in the input data. You can use your own columns with the `-c` / `--frm_cols` flag."
   ]
  },
  {
   "cell_type": "markdown",
   "metadata": {},
   "source": [
    ">For AIRR files, use column names `v_call`, `d_call`, `j_call`, `c_call`"
   ]
  },
  {
   "cell_type": "markdown",
   "metadata": {},
   "source": [
    "**Inspect our 10X-format data:**"
   ]
  },
  {
   "cell_type": "code",
   "execution_count": null,
   "metadata": {},
   "outputs": [],
   "source": [
    "!cat ../../tcrconvert/examples/customcols.csv"
   ]
  },
  {
   "cell_type": "markdown",
   "metadata": {},
   "source": [
    "**Specify gene column names using `-c` / `--frm_cols` and convert to IMGT**:\n",
    "\n",
    "Note that you need to list each one individually"
   ]
  },
  {
   "cell_type": "code",
   "execution_count": null,
   "metadata": {},
   "outputs": [],
   "source": [
    "!tcrconvert convert \\\n",
    "    -i ../../tcrconvert/examples/customcols.csv \\\n",
    "    -o ../../tcrconvert/examples/custom2imgt.csv \\\n",
    "    --frm tenx \\\n",
    "    --to imgt \\\n",
    "    -c myVgene \\\n",
    "    -c myDgene \\\n",
    "    -c myJgene \\\n",
    "    -c myCgene"
   ]
  },
  {
   "cell_type": "code",
   "execution_count": null,
   "metadata": {},
   "outputs": [],
   "source": [
    "!cat ../../tcrconvert/examples/custom2imgt.csv"
   ]
  },
  {
   "cell_type": "markdown",
   "metadata": {},
   "source": [
    "> Tip: If your Adaptive data doesn't have `x_resolved` or `xMaxResolved` columns simply make them yourself by combining text from the gene and allele columns using `*` as a seperator."
   ]
  },
  {
   "cell_type": "markdown",
   "metadata": {},
   "source": [
    "## Rhesus or mouse data"
   ]
  },
  {
   "cell_type": "markdown",
   "metadata": {},
   "source": [
    "**Specify the species if not human using the `-s`/ `--species` flag:**\n",
    "\n",
    "Note that TRBV2 is not a rhesus macaque gene"
   ]
  },
  {
   "cell_type": "code",
   "execution_count": null,
   "metadata": {},
   "outputs": [],
   "source": [
    "!tcrconvert convert \\\n",
    "    -i ../../tcrconvert/examples/tenx.csv \\\n",
    "    -o ../../tcrconvert/examples/tenx2adapt.tsv \\\n",
    "    --frm tenx \\\n",
    "    --to adaptive \\\n",
    "    -s rhesus  # or mouse"
   ]
  },
  {
   "cell_type": "markdown",
   "metadata": {},
   "source": [
    "## Using a custom reference"
   ]
  },
  {
   "cell_type": "markdown",
   "metadata": {},
   "source": [
    "**You may want to create a reference for a species that isn't already included**, such as rabbit. To do so, you'll need FASTA files that contain TCR gene names in the headers in this format:\n",
    "\n",
    "```\n",
    ">SomeText|TRBV10-1*02|MoreText|...\n",
    "```\n",
    "\n",
    "1. The easiest way is to download the reference FASTAs for every gene group from [IMGT](https://www.imgt.org/vquest/refseqh.html) into a folder.\n",
    "\n",
    "2. Build the lookup tables, specifying the species name you'll use when running TCRconvert:\n",
    "\n",
    "```\n",
    "$ tcrconvert build -i path/to/fasta/dir/ -s rabbit\n",
    "```"
   ]
  }
 ],
 "metadata": {
  "kernelspec": {
   "display_name": "tcrconvert",
   "language": "python",
   "name": "python3"
  },
  "language_info": {
   "codemirror_mode": {
    "name": "ipython",
    "version": 3
   },
   "file_extension": ".py",
   "mimetype": "text/x-python",
   "name": "python",
   "nbconvert_exporter": "python",
   "pygments_lexer": "ipython3",
   "version": "3.12.4"
  }
 },
 "nbformat": 4,
 "nbformat_minor": 2
}
