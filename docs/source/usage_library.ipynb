{
 "cells": [
  {
   "cell_type": "markdown",
   "metadata": {},
   "source": [
    "# Usage (library)"
   ]
  },
  {
   "cell_type": "markdown",
   "metadata": {},
   "source": [
    "## Basic usage"
   ]
  },
  {
   "cell_type": "markdown",
   "metadata": {},
   "source": [
    "TCRconvert takes a Pandas DataFrame with at least one column of gene names as input. It produces a Pandas DataFrame with converted gene names as output."
   ]
  },
  {
   "cell_type": "markdown",
   "metadata": {},
   "source": [
    "**Load some 10X data.**"
   ]
  },
  {
   "cell_type": "code",
   "execution_count": null,
   "metadata": {},
   "outputs": [],
   "source": [
    "import tcrconvert\n",
    "import pandas as pd\n",
    "\n",
    "tcr_file = tcrconvert.get_example_path('tenx.csv')\n",
    "\n",
    "tcrs = pd.read_csv(tcr_file)[\n",
    "    ['barcode', 'v_gene', 'd_gene', 'j_gene', 'c_gene', 'cdr3']\n",
    "]\n",
    "tcrs"
   ]
  },
  {
   "cell_type": "markdown",
   "metadata": {},
   "source": [
    "**Convert gene names from 10X to Adaptive...**"
   ]
  },
  {
   "cell_type": "code",
   "execution_count": null,
   "metadata": {},
   "outputs": [],
   "source": [
    "new_tcrs = tcrconvert.convert_gene(tcrs, frm='tenx', to='adaptive')\n",
    "new_tcrs"
   ]
  },
  {
   "cell_type": "markdown",
   "metadata": {},
   "source": [
    "**...or to IMGT.**"
   ]
  },
  {
   "cell_type": "code",
   "execution_count": null,
   "metadata": {},
   "outputs": [],
   "source": [
    "new_tcrs = tcrconvert.convert_gene(tcrs, frm='tenx', to='imgt')\n",
    "new_tcrs"
   ]
  },
  {
   "cell_type": "markdown",
   "metadata": {},
   "source": [
    "> Tip: Suppress INFO-level messages by setting `verbose=False`."
   ]
  },
  {
   "cell_type": "markdown",
   "metadata": {},
   "source": [
    "**Convert back to 10X to see that no data is lost.**"
   ]
  },
  {
   "cell_type": "code",
   "execution_count": null,
   "metadata": {},
   "outputs": [],
   "source": [
    "back_tcrs = tcrconvert.convert_gene(new_tcrs, frm='imgt', to='tenx')\n",
    "back_tcrs.equals(tcrs)"
   ]
  },
  {
   "cell_type": "markdown",
   "metadata": {},
   "source": [
    "## Custom column names"
   ]
  },
  {
   "cell_type": "markdown",
   "metadata": {},
   "source": [
    "TCRconvert uses the gene column names below based on the `frm` parameter. Note that there are no standard IMGT column names and that Adaptive does not capture C genes.\n",
    "\n",
    "* `frm='imgt'` uses `['v_gene', 'd_gene', 'j_gene', 'c_gene']`\n",
    "* `frm='tenx'` uses `['v_gene', 'd_gene', 'j_gene', 'c_gene']`\n",
    "* `frm='adaptive'` uses `['v_resolved', 'd_resolved', 'j_resolved']`\n",
    "* `frm='adaptivev2'` uses `['vMaxResolved', 'dMaxResolved', 'jMaxResolved']`\n",
    "\n",
    "At least one of the assumed columns needs to be in the input data. You can use your own columns with the `frm_cols` parameter.\n",
    "\n",
    "If you're using AIRR-formatted files, use: `frm_cols=['v_call', 'd_call', 'j_call', 'c_call']`"
   ]
  },
  {
   "cell_type": "markdown",
   "metadata": {},
   "source": [
    "> Tip: If your Adaptive data doesn't have `x_resolved` or `xMaxResolved` columns simply make them yourself by combining text from the gene and allele columns using `*` as a seperator."
   ]
  },
  {
   "cell_type": "markdown",
   "metadata": {},
   "source": [
    "**Load 10X data with custom column names:**"
   ]
  },
  {
   "cell_type": "code",
   "execution_count": null,
   "metadata": {},
   "outputs": [],
   "source": [
    "custom_file = tcrconvert.get_example_path('customcols.csv')\n",
    "\n",
    "custom = pd.read_csv(custom_file)\n",
    "custom"
   ]
  },
  {
   "cell_type": "markdown",
   "metadata": {},
   "source": [
    "**Specify names using** `frm_cols` **and convert to IMGT**:"
   ]
  },
  {
   "cell_type": "code",
   "execution_count": null,
   "metadata": {},
   "outputs": [],
   "source": [
    "custom_new = tcrconvert.convert_gene(\n",
    "    custom,\n",
    "    frm='tenx',\n",
    "    to='imgt',\n",
    "    verbose=False,\n",
    "    frm_cols=['myVgene', 'myDgene', 'myJgene', 'myCgene'],\n",
    ")\n",
    "custom_new"
   ]
  },
  {
   "cell_type": "markdown",
   "metadata": {},
   "source": [
    "## Rhesus or mouse data"
   ]
  },
  {
   "cell_type": "markdown",
   "metadata": {},
   "source": [
    "**Specify the species if not human:**"
   ]
  },
  {
   "cell_type": "code",
   "execution_count": null,
   "metadata": {},
   "outputs": [],
   "source": [
    "new_tcrs = tcrconvert.convert_gene(\n",
    "    tcrs, frm='tenx', to='imgt', verbose=False, species='rhesus'\n",
    ")  # or 'mouse'"
   ]
  },
  {
   "cell_type": "markdown",
   "metadata": {},
   "source": [
    "## Using a custom reference"
   ]
  },
  {
   "cell_type": "markdown",
   "metadata": {},
   "source": [
    "**You may want to create a reference for a species that isn't already included**, such as rabbit. To do so, you'll need FASTA files that contain TCR gene names in the headers in this format:\n",
    "\n",
    "```\n",
    ">SomeText|TRBV10-1*02|MoreText|...\n",
    "```\n",
    "\n",
    "1. The easiest way is to download the reference FASTAs for every gene group from [IMGT](https://www.imgt.org/vquest/refseqh.html) into a folder.\n",
    "\n",
    "2. Build the lookup tables, specifying the species name you'll use when running TCRconvert:\n",
    "\n",
    "```python\n",
    "import(tcrconvert)\n",
    "tcrconvert.build_lookup_from_fastas('path/to/fasta/dir/', 'rabbit')\n",
    "```"
   ]
  }
 ],
 "metadata": {
  "kernelspec": {
   "display_name": "tcrconvert",
   "language": "python",
   "name": "python3"
  },
  "language_info": {
   "codemirror_mode": {
    "name": "ipython",
    "version": 3
   },
   "file_extension": ".py",
   "mimetype": "text/x-python",
   "name": "python",
   "nbconvert_exporter": "python",
   "pygments_lexer": "ipython3",
   "version": "3.12.4"
  }
 },
 "nbformat": 4,
 "nbformat_minor": 2
}
