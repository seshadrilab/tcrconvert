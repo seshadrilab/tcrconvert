{
 "cells": [
  {
   "cell_type": "markdown",
   "metadata": {},
   "source": [
    "# Library: Quick Start"
   ]
  },
  {
   "cell_type": "markdown",
   "metadata": {},
   "source": [
    "## Basic usage"
   ]
  },
  {
   "cell_type": "markdown",
   "metadata": {},
   "source": [
    "#### 1. Load TCRs into a data frame"
   ]
  },
  {
   "cell_type": "markdown",
   "metadata": {},
   "source": [
    "Examples of files you may want to load:\n",
    "\n",
    "- **10X**: `filtered_contig_annotations.csv`\n",
    "\n",
    "- **Adaptive**: `Sample_TCRB.tsv`\n",
    "\n",
    "- **IMGT**: Output from `MiXCR` or other tools"
   ]
  },
  {
   "cell_type": "code",
   "execution_count": 1,
   "metadata": {},
   "outputs": [
    {
     "data": {
      "text/html": [
       "<div>\n",
       "<style scoped>\n",
       "    .dataframe tbody tr th:only-of-type {\n",
       "        vertical-align: middle;\n",
       "    }\n",
       "\n",
       "    .dataframe tbody tr th {\n",
       "        vertical-align: top;\n",
       "    }\n",
       "\n",
       "    .dataframe thead th {\n",
       "        text-align: right;\n",
       "    }\n",
       "</style>\n",
       "<table border=\"1\" class=\"dataframe\">\n",
       "  <thead>\n",
       "    <tr style=\"text-align: right;\">\n",
       "      <th></th>\n",
       "      <th>barcode</th>\n",
       "      <th>v_gene</th>\n",
       "      <th>j_gene</th>\n",
       "      <th>cdr3</th>\n",
       "    </tr>\n",
       "  </thead>\n",
       "  <tbody>\n",
       "    <tr>\n",
       "      <th>0</th>\n",
       "      <td>AAACCTGAGACCACGA-1</td>\n",
       "      <td>TRAV29DV5</td>\n",
       "      <td>TRAJ12</td>\n",
       "      <td>CAVMDSSYKLIF</td>\n",
       "    </tr>\n",
       "    <tr>\n",
       "      <th>1</th>\n",
       "      <td>AAACCTGAGACCACGA-1</td>\n",
       "      <td>TRBV20/OR9-2</td>\n",
       "      <td>TRBJ2-1</td>\n",
       "      <td>CASSGLAGGYNEQFF</td>\n",
       "    </tr>\n",
       "    <tr>\n",
       "      <th>2</th>\n",
       "      <td>AAACCTGAGGCTCTTA-1</td>\n",
       "      <td>TRDV2</td>\n",
       "      <td>TRDJ3</td>\n",
       "      <td>CASSGVAGGTDTQYF</td>\n",
       "    </tr>\n",
       "    <tr>\n",
       "      <th>3</th>\n",
       "      <td>AAACCTGAGGCTCTTA-1</td>\n",
       "      <td>TRGV9</td>\n",
       "      <td>TRGJ1</td>\n",
       "      <td>CAVKDSNYQLIW</td>\n",
       "    </tr>\n",
       "  </tbody>\n",
       "</table>\n",
       "</div>"
      ],
      "text/plain": [
       "              barcode        v_gene   j_gene             cdr3\n",
       "0  AAACCTGAGACCACGA-1     TRAV29DV5   TRAJ12     CAVMDSSYKLIF\n",
       "1  AAACCTGAGACCACGA-1  TRBV20/OR9-2  TRBJ2-1  CASSGLAGGYNEQFF\n",
       "2  AAACCTGAGGCTCTTA-1         TRDV2    TRDJ3  CASSGVAGGTDTQYF\n",
       "3  AAACCTGAGGCTCTTA-1         TRGV9    TRGJ1     CAVKDSNYQLIW"
      ]
     },
     "execution_count": 1,
     "metadata": {},
     "output_type": "execute_result"
    }
   ],
   "source": [
    "import tcrconvert\n",
    "import pandas as pd\n",
    "\n",
    "tcr_file = tcrconvert.get_example_path('tenx.csv')\n",
    "tcrs = pd.read_csv(tcr_file)[['barcode', 'v_gene', 'j_gene', 'cdr3']]\n",
    "tcrs"
   ]
  },
  {
   "cell_type": "markdown",
   "metadata": {},
   "source": [
    "#### 2. Convert"
   ]
  },
  {
   "cell_type": "code",
   "execution_count": 2,
   "metadata": {},
   "outputs": [
    {
     "name": "stderr",
     "output_type": "stream",
     "text": [
      "WARNING - Adaptive only captures VDJ genes; C genes will be NA.\n",
      "INFO - Converting from 10X. Using *01 as allele for all genes.\n"
     ]
    },
    {
     "data": {
      "text/html": [
       "<div>\n",
       "<style scoped>\n",
       "    .dataframe tbody tr th:only-of-type {\n",
       "        vertical-align: middle;\n",
       "    }\n",
       "\n",
       "    .dataframe tbody tr th {\n",
       "        vertical-align: top;\n",
       "    }\n",
       "\n",
       "    .dataframe thead th {\n",
       "        text-align: right;\n",
       "    }\n",
       "</style>\n",
       "<table border=\"1\" class=\"dataframe\">\n",
       "  <thead>\n",
       "    <tr style=\"text-align: right;\">\n",
       "      <th></th>\n",
       "      <th>barcode</th>\n",
       "      <th>v_gene</th>\n",
       "      <th>j_gene</th>\n",
       "      <th>cdr3</th>\n",
       "    </tr>\n",
       "  </thead>\n",
       "  <tbody>\n",
       "    <tr>\n",
       "      <th>0</th>\n",
       "      <td>AAACCTGAGACCACGA-1</td>\n",
       "      <td>TCRAV29-01*01</td>\n",
       "      <td>TCRAJ12-01*01</td>\n",
       "      <td>CAVMDSSYKLIF</td>\n",
       "    </tr>\n",
       "    <tr>\n",
       "      <th>1</th>\n",
       "      <td>AAACCTGAGACCACGA-1</td>\n",
       "      <td>TCRBV20-or09_02*01</td>\n",
       "      <td>TCRBJ02-01*01</td>\n",
       "      <td>CASSGLAGGYNEQFF</td>\n",
       "    </tr>\n",
       "    <tr>\n",
       "      <th>2</th>\n",
       "      <td>AAACCTGAGGCTCTTA-1</td>\n",
       "      <td>TCRDV02-01*01</td>\n",
       "      <td>TCRDJ03-01*01</td>\n",
       "      <td>CASSGVAGGTDTQYF</td>\n",
       "    </tr>\n",
       "    <tr>\n",
       "      <th>3</th>\n",
       "      <td>AAACCTGAGGCTCTTA-1</td>\n",
       "      <td>TCRGV09-01*01</td>\n",
       "      <td>TCRGJ01-01*01</td>\n",
       "      <td>CAVKDSNYQLIW</td>\n",
       "    </tr>\n",
       "  </tbody>\n",
       "</table>\n",
       "</div>"
      ],
      "text/plain": [
       "              barcode              v_gene         j_gene             cdr3\n",
       "0  AAACCTGAGACCACGA-1       TCRAV29-01*01  TCRAJ12-01*01     CAVMDSSYKLIF\n",
       "1  AAACCTGAGACCACGA-1  TCRBV20-or09_02*01  TCRBJ02-01*01  CASSGLAGGYNEQFF\n",
       "2  AAACCTGAGGCTCTTA-1       TCRDV02-01*01  TCRDJ03-01*01  CASSGVAGGTDTQYF\n",
       "3  AAACCTGAGGCTCTTA-1       TCRGV09-01*01  TCRGJ01-01*01     CAVKDSNYQLIW"
      ]
     },
     "execution_count": 2,
     "metadata": {},
     "output_type": "execute_result"
    }
   ],
   "source": [
    "new_tcrs = tcrconvert.convert_gene(tcrs, frm='tenx', to='adaptive')\n",
    "new_tcrs"
   ]
  },
  {
   "cell_type": "markdown",
   "metadata": {},
   "source": [
    "> **Tip**: Suppress INFO-level messages by setting `verbose=False`. Warnings and errors will still appear.\n",
    "\n",
    "> **Tip**: If your Adaptive data lacks `x_resolved`/`xMaxResolved` columns, create them yourself by combining the `x_gene`/`xGeneName` and `x_allele`/`xGeneAllele` columns. See the FAQs."
   ]
  },
  {
   "cell_type": "markdown",
   "metadata": {},
   "source": [
    "## AIRR data"
   ]
  },
  {
   "cell_type": "markdown",
   "metadata": {},
   "source": [
    "Supply the standard AIRR gene column names to `frm_cols`:\n",
    "\n",
    "```python\n",
    "new_airr = tcrconvert.convert_gene(airr, frm = \"imgt\", to = \"adaptive\", \n",
    "                                   frm_cols = c('v_call', 'd_call', 'j_call', 'c_call'))\n",
    "```"
   ]
  },
  {
   "cell_type": "markdown",
   "metadata": {},
   "source": [
    "## Custom column names"
   ]
  },
  {
   "cell_type": "markdown",
   "metadata": {},
   "source": [
    "By default, `TCRconvert` assumes these column names based on the input nomenclature (`frm`):\n",
    "\n",
    "- `frm='imgt'` : `['v_gene', 'd_gene', 'j_gene', 'c_gene']`\n",
    "\n",
    "- `frm='tenx'` : `['v_gene', 'd_gene', 'j_gene', 'c_gene']`\n",
    "\n",
    "- `frm='adaptive'` : `['v_resolved', 'd_resolved', 'j_resolved']`\n",
    "\n",
    "- `frm='adaptivev2'` : `['vMaxResolved', 'dMaxResolved', 'jMaxResolved']`\n",
    "\n",
    "You can override these columns using `frm_cols`:"
   ]
  },
  {
   "cell_type": "markdown",
   "metadata": {},
   "source": [
    "**1. Load 10X data with custom column names**"
   ]
  },
  {
   "cell_type": "code",
   "execution_count": 3,
   "metadata": {},
   "outputs": [
    {
     "data": {
      "text/html": [
       "<div>\n",
       "<style scoped>\n",
       "    .dataframe tbody tr th:only-of-type {\n",
       "        vertical-align: middle;\n",
       "    }\n",
       "\n",
       "    .dataframe tbody tr th {\n",
       "        vertical-align: top;\n",
       "    }\n",
       "\n",
       "    .dataframe thead th {\n",
       "        text-align: right;\n",
       "    }\n",
       "</style>\n",
       "<table border=\"1\" class=\"dataframe\">\n",
       "  <thead>\n",
       "    <tr style=\"text-align: right;\">\n",
       "      <th></th>\n",
       "      <th>myVgene</th>\n",
       "      <th>myDgene</th>\n",
       "      <th>myJgene</th>\n",
       "      <th>myCgene</th>\n",
       "      <th>myCDR3</th>\n",
       "      <th>antigen</th>\n",
       "    </tr>\n",
       "  </thead>\n",
       "  <tbody>\n",
       "    <tr>\n",
       "      <th>0</th>\n",
       "      <td>TRAV1-2</td>\n",
       "      <td>TRBD1</td>\n",
       "      <td>TRAJ12</td>\n",
       "      <td>TRAC</td>\n",
       "      <td>CAVMDSSYKLIF</td>\n",
       "      <td>Flu</td>\n",
       "    </tr>\n",
       "    <tr>\n",
       "      <th>1</th>\n",
       "      <td>TRBV6-1</td>\n",
       "      <td>TRBD2</td>\n",
       "      <td>TRBJ2-1</td>\n",
       "      <td>TRBC2</td>\n",
       "      <td>CASSGLAGGYNEQFF</td>\n",
       "      <td>Flu</td>\n",
       "    </tr>\n",
       "    <tr>\n",
       "      <th>2</th>\n",
       "      <td>TRBV6-4</td>\n",
       "      <td>TRBD2</td>\n",
       "      <td>TRBJ2-3</td>\n",
       "      <td>TRBC2</td>\n",
       "      <td>CASSGVAGGTDTQYF</td>\n",
       "      <td>CMV</td>\n",
       "    </tr>\n",
       "    <tr>\n",
       "      <th>3</th>\n",
       "      <td>TRAV1-2</td>\n",
       "      <td>TRBD1</td>\n",
       "      <td>TRAJ33</td>\n",
       "      <td>TRAC</td>\n",
       "      <td>CAVKDSNYQLIW</td>\n",
       "      <td>CMV</td>\n",
       "    </tr>\n",
       "    <tr>\n",
       "      <th>4</th>\n",
       "      <td>TRBV2</td>\n",
       "      <td>TRBD1</td>\n",
       "      <td>TRBJ1-2</td>\n",
       "      <td>TRBC1</td>\n",
       "      <td>CASNQGLNYGYTF</td>\n",
       "      <td>CMV</td>\n",
       "    </tr>\n",
       "  </tbody>\n",
       "</table>\n",
       "</div>"
      ],
      "text/plain": [
       "   myVgene myDgene  myJgene myCgene           myCDR3 antigen\n",
       "0  TRAV1-2   TRBD1   TRAJ12    TRAC     CAVMDSSYKLIF     Flu\n",
       "1  TRBV6-1   TRBD2  TRBJ2-1   TRBC2  CASSGLAGGYNEQFF     Flu\n",
       "2  TRBV6-4   TRBD2  TRBJ2-3   TRBC2  CASSGVAGGTDTQYF     CMV\n",
       "3  TRAV1-2   TRBD1   TRAJ33    TRAC     CAVKDSNYQLIW     CMV\n",
       "4    TRBV2   TRBD1  TRBJ1-2   TRBC1    CASNQGLNYGYTF     CMV"
      ]
     },
     "execution_count": 3,
     "metadata": {},
     "output_type": "execute_result"
    }
   ],
   "source": [
    "custom_file = tcrconvert.get_example_path('customcols.csv')\n",
    "\n",
    "custom = pd.read_csv(custom_file)\n",
    "custom"
   ]
  },
  {
   "cell_type": "markdown",
   "metadata": {},
   "source": [
    "**2. Specify names using `frm_cols` and convert to IMGT**"
   ]
  },
  {
   "cell_type": "code",
   "execution_count": 4,
   "metadata": {},
   "outputs": [
    {
     "data": {
      "text/html": [
       "<div>\n",
       "<style scoped>\n",
       "    .dataframe tbody tr th:only-of-type {\n",
       "        vertical-align: middle;\n",
       "    }\n",
       "\n",
       "    .dataframe tbody tr th {\n",
       "        vertical-align: top;\n",
       "    }\n",
       "\n",
       "    .dataframe thead th {\n",
       "        text-align: right;\n",
       "    }\n",
       "</style>\n",
       "<table border=\"1\" class=\"dataframe\">\n",
       "  <thead>\n",
       "    <tr style=\"text-align: right;\">\n",
       "      <th></th>\n",
       "      <th>myVgene</th>\n",
       "      <th>myDgene</th>\n",
       "      <th>myJgene</th>\n",
       "      <th>myCgene</th>\n",
       "      <th>myCDR3</th>\n",
       "      <th>antigen</th>\n",
       "    </tr>\n",
       "  </thead>\n",
       "  <tbody>\n",
       "    <tr>\n",
       "      <th>0</th>\n",
       "      <td>TRAV1-2*01</td>\n",
       "      <td>TRBD1*01</td>\n",
       "      <td>TRAJ12*01</td>\n",
       "      <td>TRAC*01</td>\n",
       "      <td>CAVMDSSYKLIF</td>\n",
       "      <td>Flu</td>\n",
       "    </tr>\n",
       "    <tr>\n",
       "      <th>1</th>\n",
       "      <td>TRBV6-1*01</td>\n",
       "      <td>TRBD2*01</td>\n",
       "      <td>TRBJ2-1*01</td>\n",
       "      <td>TRBC2*01</td>\n",
       "      <td>CASSGLAGGYNEQFF</td>\n",
       "      <td>Flu</td>\n",
       "    </tr>\n",
       "    <tr>\n",
       "      <th>2</th>\n",
       "      <td>TRBV6-4*01</td>\n",
       "      <td>TRBD2*01</td>\n",
       "      <td>TRBJ2-3*01</td>\n",
       "      <td>TRBC2*01</td>\n",
       "      <td>CASSGVAGGTDTQYF</td>\n",
       "      <td>CMV</td>\n",
       "    </tr>\n",
       "    <tr>\n",
       "      <th>3</th>\n",
       "      <td>TRAV1-2*01</td>\n",
       "      <td>TRBD1*01</td>\n",
       "      <td>TRAJ33*01</td>\n",
       "      <td>TRAC*01</td>\n",
       "      <td>CAVKDSNYQLIW</td>\n",
       "      <td>CMV</td>\n",
       "    </tr>\n",
       "    <tr>\n",
       "      <th>4</th>\n",
       "      <td>TRBV2*01</td>\n",
       "      <td>TRBD1*01</td>\n",
       "      <td>TRBJ1-2*01</td>\n",
       "      <td>TRBC1*01</td>\n",
       "      <td>CASNQGLNYGYTF</td>\n",
       "      <td>CMV</td>\n",
       "    </tr>\n",
       "  </tbody>\n",
       "</table>\n",
       "</div>"
      ],
      "text/plain": [
       "      myVgene   myDgene     myJgene   myCgene           myCDR3 antigen\n",
       "0  TRAV1-2*01  TRBD1*01   TRAJ12*01   TRAC*01     CAVMDSSYKLIF     Flu\n",
       "1  TRBV6-1*01  TRBD2*01  TRBJ2-1*01  TRBC2*01  CASSGLAGGYNEQFF     Flu\n",
       "2  TRBV6-4*01  TRBD2*01  TRBJ2-3*01  TRBC2*01  CASSGVAGGTDTQYF     CMV\n",
       "3  TRAV1-2*01  TRBD1*01   TRAJ33*01   TRAC*01     CAVKDSNYQLIW     CMV\n",
       "4    TRBV2*01  TRBD1*01  TRBJ1-2*01  TRBC1*01    CASNQGLNYGYTF     CMV"
      ]
     },
     "execution_count": 4,
     "metadata": {},
     "output_type": "execute_result"
    }
   ],
   "source": [
    "custom_new = tcrconvert.convert_gene(\n",
    "    custom,\n",
    "    frm='tenx',\n",
    "    to='imgt',\n",
    "    verbose=False,\n",
    "    frm_cols=['myVgene', 'myDgene', 'myJgene', 'myCgene'],\n",
    ")\n",
    "custom_new"
   ]
  },
  {
   "cell_type": "markdown",
   "metadata": {},
   "source": [
    "## Rhesus or mouse data"
   ]
  },
  {
   "cell_type": "markdown",
   "metadata": {},
   "source": [
    "Use `species='rhesus'` or `species='mouse'`"
   ]
  },
  {
   "cell_type": "code",
   "execution_count": 6,
   "metadata": {},
   "outputs": [
    {
     "name": "stderr",
     "output_type": "stream",
     "text": [
      "WARNING - These genes are not in IMGT for this species and will be replaced with NA:\n",
      " ['TRAV29DV5', 'TRBV20/OR9-2', 'TRGJ1']\n"
     ]
    },
    {
     "data": {
      "text/html": [
       "<div>\n",
       "<style scoped>\n",
       "    .dataframe tbody tr th:only-of-type {\n",
       "        vertical-align: middle;\n",
       "    }\n",
       "\n",
       "    .dataframe tbody tr th {\n",
       "        vertical-align: top;\n",
       "    }\n",
       "\n",
       "    .dataframe thead th {\n",
       "        text-align: right;\n",
       "    }\n",
       "</style>\n",
       "<table border=\"1\" class=\"dataframe\">\n",
       "  <thead>\n",
       "    <tr style=\"text-align: right;\">\n",
       "      <th></th>\n",
       "      <th>barcode</th>\n",
       "      <th>v_gene</th>\n",
       "      <th>j_gene</th>\n",
       "      <th>cdr3</th>\n",
       "    </tr>\n",
       "  </thead>\n",
       "  <tbody>\n",
       "    <tr>\n",
       "      <th>0</th>\n",
       "      <td>AAACCTGAGACCACGA-1</td>\n",
       "      <td>NaN</td>\n",
       "      <td>TRAJ12*01</td>\n",
       "      <td>CAVMDSSYKLIF</td>\n",
       "    </tr>\n",
       "    <tr>\n",
       "      <th>1</th>\n",
       "      <td>AAACCTGAGACCACGA-1</td>\n",
       "      <td>NaN</td>\n",
       "      <td>TRBJ2-1*01</td>\n",
       "      <td>CASSGLAGGYNEQFF</td>\n",
       "    </tr>\n",
       "    <tr>\n",
       "      <th>2</th>\n",
       "      <td>AAACCTGAGGCTCTTA-1</td>\n",
       "      <td>TRDV2*01</td>\n",
       "      <td>TRDJ3*01</td>\n",
       "      <td>CASSGVAGGTDTQYF</td>\n",
       "    </tr>\n",
       "    <tr>\n",
       "      <th>3</th>\n",
       "      <td>AAACCTGAGGCTCTTA-1</td>\n",
       "      <td>TRGV9*01</td>\n",
       "      <td>NaN</td>\n",
       "      <td>CAVKDSNYQLIW</td>\n",
       "    </tr>\n",
       "  </tbody>\n",
       "</table>\n",
       "</div>"
      ],
      "text/plain": [
       "              barcode    v_gene      j_gene             cdr3\n",
       "0  AAACCTGAGACCACGA-1       NaN   TRAJ12*01     CAVMDSSYKLIF\n",
       "1  AAACCTGAGACCACGA-1       NaN  TRBJ2-1*01  CASSGLAGGYNEQFF\n",
       "2  AAACCTGAGGCTCTTA-1  TRDV2*01    TRDJ3*01  CASSGVAGGTDTQYF\n",
       "3  AAACCTGAGGCTCTTA-1  TRGV9*01         NaN     CAVKDSNYQLIW"
      ]
     },
     "execution_count": 6,
     "metadata": {},
     "output_type": "execute_result"
    }
   ],
   "source": [
    "new_tcrs = tcrconvert.convert_gene(\n",
    "    tcrs, frm='tenx', to='imgt', verbose=False, species='rhesus'\n",
    ")  # or 'mouse'\n",
    "new_tcrs"
   ]
  }
 ],
 "metadata": {
  "kernelspec": {
   "display_name": "tcrconvert",
   "language": "python",
   "name": "python3"
  },
  "language_info": {
   "codemirror_mode": {
    "name": "ipython",
    "version": 3
   },
   "file_extension": ".py",
   "mimetype": "text/x-python",
   "name": "python",
   "nbconvert_exporter": "python",
   "pygments_lexer": "ipython3",
   "version": "3.12.5"
  }
 },
 "nbformat": 4,
 "nbformat_minor": 2
}
