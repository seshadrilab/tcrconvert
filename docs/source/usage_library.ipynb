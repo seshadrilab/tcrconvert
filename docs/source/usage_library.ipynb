{
 "cells": [
  {
   "cell_type": "markdown",
   "metadata": {},
   "source": [
    "# Usage (library)"
   ]
  },
  {
   "cell_type": "markdown",
   "metadata": {},
   "source": [
    "## Basic usage"
   ]
  },
  {
   "cell_type": "markdown",
   "metadata": {},
   "source": [
    "TCRconvert takes a Pandas DataFrame with at least one column of gene names as input. It produces a Pandas DataFrame with converted gene names as output."
   ]
  },
  {
   "cell_type": "markdown",
   "metadata": {},
   "source": [
    "**Load some 10X data.**"
   ]
  },
  {
   "cell_type": "code",
   "execution_count": 1,
   "metadata": {},
   "outputs": [
    {
     "ename": "ImportError",
     "evalue": "cannot import name 'get_example_file' from 'tcrconvert.utils' (/home/emmabishop/anaconda3/envs/tcrconvert/lib/python3.12/site-packages/tcrconvert/utils.py)",
     "output_type": "error",
     "traceback": [
      "\u001b[0;31m---------------------------------------------------------------------------\u001b[0m",
      "\u001b[0;31mImportError\u001b[0m                               Traceback (most recent call last)",
      "Cell \u001b[0;32mIn[1], line 1\u001b[0m\n\u001b[0;32m----> 1\u001b[0m \u001b[38;5;28;01mimport\u001b[39;00m \u001b[38;5;21;01mtcrconvert\u001b[39;00m\n\u001b[1;32m      2\u001b[0m \u001b[38;5;28;01mimport\u001b[39;00m \u001b[38;5;21;01mpandas\u001b[39;00m \u001b[38;5;28;01mas\u001b[39;00m \u001b[38;5;21;01mpd\u001b[39;00m\n\u001b[1;32m      4\u001b[0m tcr_file \u001b[38;5;241m=\u001b[39m tcrconvert\u001b[38;5;241m.\u001b[39mget_example_path(\u001b[38;5;124m'\u001b[39m\u001b[38;5;124mtenx.csv\u001b[39m\u001b[38;5;124m'\u001b[39m)\n",
      "File \u001b[0;32m~/anaconda3/envs/tcrconvert/lib/python3.12/site-packages/tcrconvert/__init__.py:3\u001b[0m\n\u001b[1;32m      1\u001b[0m \u001b[38;5;28;01mfrom\u001b[39;00m \u001b[38;5;21;01m.\u001b[39;00m\u001b[38;5;21;01mconvert\u001b[39;00m \u001b[38;5;28;01mimport\u001b[39;00m convert_gene\n\u001b[1;32m      2\u001b[0m \u001b[38;5;28;01mfrom\u001b[39;00m \u001b[38;5;21;01m.\u001b[39;00m\u001b[38;5;21;01mbuild_lookup\u001b[39;00m \u001b[38;5;28;01mimport\u001b[39;00m build_lookup_from_fastas\n\u001b[0;32m----> 3\u001b[0m \u001b[38;5;28;01mfrom\u001b[39;00m \u001b[38;5;21;01m.\u001b[39;00m\u001b[38;5;21;01mutils\u001b[39;00m \u001b[38;5;28;01mimport\u001b[39;00m get_example_file\n\u001b[1;32m      5\u001b[0m __all__ \u001b[38;5;241m=\u001b[39m [\u001b[38;5;124m\"\u001b[39m\u001b[38;5;124mconvert_gene\u001b[39m\u001b[38;5;124m\"\u001b[39m, \u001b[38;5;124m\"\u001b[39m\u001b[38;5;124mbuild_lookup_from_fastas\u001b[39m\u001b[38;5;124m\"\u001b[39m, \u001b[38;5;124m\"\u001b[39m\u001b[38;5;124mget_example_file\u001b[39m\u001b[38;5;124m\"\u001b[39m] \n",
      "\u001b[0;31mImportError\u001b[0m: cannot import name 'get_example_file' from 'tcrconvert.utils' (/home/emmabishop/anaconda3/envs/tcrconvert/lib/python3.12/site-packages/tcrconvert/utils.py)"
     ]
    }
   ],
   "source": [
    "import tcrconvert\n",
    "import pandas as pd\n",
    "\n",
    "tcr_file = tcrconvert.get_example_path('tenx.csv')\n",
    "\n",
    "tcrs = pd.read_csv(tcr_file)[['barcode', 'v_gene' , 'd_gene', 'j_gene', 'c_gene', 'cdr3']]\n",
    "tcrs"
   ]
  },
  {
   "cell_type": "markdown",
   "metadata": {},
   "source": [
    "**Convert gene names from 10X to Adaptive...**"
   ]
  },
  {
   "cell_type": "code",
   "execution_count": 2,
   "metadata": {},
   "outputs": [
    {
     "name": "stderr",
     "output_type": "stream",
     "text": [
      "WARNING - Adaptive only captures VDJ genes, any C genes will become NA.\n",
      "WARNING - Converting from 10X which lacks allele info. Choosing *01 as allele for all genes.\n"
     ]
    },
    {
     "data": {
      "text/html": [
       "<div>\n",
       "<style scoped>\n",
       "    .dataframe tbody tr th:only-of-type {\n",
       "        vertical-align: middle;\n",
       "    }\n",
       "\n",
       "    .dataframe tbody tr th {\n",
       "        vertical-align: top;\n",
       "    }\n",
       "\n",
       "    .dataframe thead th {\n",
       "        text-align: right;\n",
       "    }\n",
       "</style>\n",
       "<table border=\"1\" class=\"dataframe\">\n",
       "  <thead>\n",
       "    <tr style=\"text-align: right;\">\n",
       "      <th></th>\n",
       "      <th>barcode</th>\n",
       "      <th>v_gene</th>\n",
       "      <th>d_gene</th>\n",
       "      <th>j_gene</th>\n",
       "      <th>c_gene</th>\n",
       "      <th>cdr3</th>\n",
       "    </tr>\n",
       "  </thead>\n",
       "  <tbody>\n",
       "    <tr>\n",
       "      <th>0</th>\n",
       "      <td>AAACCTGAGACCACGA-1</td>\n",
       "      <td>TCRAV01-02*01</td>\n",
       "      <td>TCRBD01-01*01</td>\n",
       "      <td>TCRAJ12-01*01</td>\n",
       "      <td>&lt;NA&gt;</td>\n",
       "      <td>CAVMDSSYKLIF</td>\n",
       "    </tr>\n",
       "    <tr>\n",
       "      <th>1</th>\n",
       "      <td>AAACCTGAGACCACGA-1</td>\n",
       "      <td>TCRBV06-01*01</td>\n",
       "      <td>TCRBD02-01*01</td>\n",
       "      <td>TCRBJ02-01*01</td>\n",
       "      <td>&lt;NA&gt;</td>\n",
       "      <td>CASSGLAGGYNEQFF</td>\n",
       "    </tr>\n",
       "    <tr>\n",
       "      <th>2</th>\n",
       "      <td>AAACCTGAGGCTCTTA-1</td>\n",
       "      <td>TCRBV06-04*01</td>\n",
       "      <td>TCRBD02-01*01</td>\n",
       "      <td>TCRBJ02-03*01</td>\n",
       "      <td>&lt;NA&gt;</td>\n",
       "      <td>CASSGVAGGTDTQYF</td>\n",
       "    </tr>\n",
       "    <tr>\n",
       "      <th>3</th>\n",
       "      <td>AAACCTGAGGCTCTTA-1</td>\n",
       "      <td>TCRAV01-02*01</td>\n",
       "      <td>TCRBD01-01*01</td>\n",
       "      <td>TCRAJ33-01*01</td>\n",
       "      <td>&lt;NA&gt;</td>\n",
       "      <td>CAVKDSNYQLIW</td>\n",
       "    </tr>\n",
       "    <tr>\n",
       "      <th>4</th>\n",
       "      <td>AAACCTGAGTGAACGC-1</td>\n",
       "      <td>TCRBV02-01*01</td>\n",
       "      <td>TCRBD01-01*01</td>\n",
       "      <td>TCRBJ01-02*01</td>\n",
       "      <td>&lt;NA&gt;</td>\n",
       "      <td>CASNQGLNYGYTF</td>\n",
       "    </tr>\n",
       "  </tbody>\n",
       "</table>\n",
       "</div>"
      ],
      "text/plain": [
       "              barcode         v_gene         d_gene         j_gene c_gene  \\\n",
       "0  AAACCTGAGACCACGA-1  TCRAV01-02*01  TCRBD01-01*01  TCRAJ12-01*01   <NA>   \n",
       "1  AAACCTGAGACCACGA-1  TCRBV06-01*01  TCRBD02-01*01  TCRBJ02-01*01   <NA>   \n",
       "2  AAACCTGAGGCTCTTA-1  TCRBV06-04*01  TCRBD02-01*01  TCRBJ02-03*01   <NA>   \n",
       "3  AAACCTGAGGCTCTTA-1  TCRAV01-02*01  TCRBD01-01*01  TCRAJ33-01*01   <NA>   \n",
       "4  AAACCTGAGTGAACGC-1  TCRBV02-01*01  TCRBD01-01*01  TCRBJ01-02*01   <NA>   \n",
       "\n",
       "              cdr3  \n",
       "0     CAVMDSSYKLIF  \n",
       "1  CASSGLAGGYNEQFF  \n",
       "2  CASSGVAGGTDTQYF  \n",
       "3     CAVKDSNYQLIW  \n",
       "4    CASNQGLNYGYTF  "
      ]
     },
     "execution_count": 2,
     "metadata": {},
     "output_type": "execute_result"
    }
   ],
   "source": [
    "new_tcrs = tcrconvert.convert_gene(tcrs, frm='tenx', to='adaptive')\n",
    "new_tcrs"
   ]
  },
  {
   "cell_type": "markdown",
   "metadata": {},
   "source": [
    "**...or to IMGT.**"
   ]
  },
  {
   "cell_type": "code",
   "execution_count": 3,
   "metadata": {},
   "outputs": [
    {
     "name": "stderr",
     "output_type": "stream",
     "text": [
      "WARNING - Converting from 10X which lacks allele info. Choosing *01 as allele for all genes.\n"
     ]
    },
    {
     "data": {
      "text/html": [
       "<div>\n",
       "<style scoped>\n",
       "    .dataframe tbody tr th:only-of-type {\n",
       "        vertical-align: middle;\n",
       "    }\n",
       "\n",
       "    .dataframe tbody tr th {\n",
       "        vertical-align: top;\n",
       "    }\n",
       "\n",
       "    .dataframe thead th {\n",
       "        text-align: right;\n",
       "    }\n",
       "</style>\n",
       "<table border=\"1\" class=\"dataframe\">\n",
       "  <thead>\n",
       "    <tr style=\"text-align: right;\">\n",
       "      <th></th>\n",
       "      <th>barcode</th>\n",
       "      <th>v_gene</th>\n",
       "      <th>d_gene</th>\n",
       "      <th>j_gene</th>\n",
       "      <th>c_gene</th>\n",
       "      <th>cdr3</th>\n",
       "    </tr>\n",
       "  </thead>\n",
       "  <tbody>\n",
       "    <tr>\n",
       "      <th>0</th>\n",
       "      <td>AAACCTGAGACCACGA-1</td>\n",
       "      <td>TRAV1-2*01</td>\n",
       "      <td>TRBD1*01</td>\n",
       "      <td>TRAJ12*01</td>\n",
       "      <td>TRAC*01</td>\n",
       "      <td>CAVMDSSYKLIF</td>\n",
       "    </tr>\n",
       "    <tr>\n",
       "      <th>1</th>\n",
       "      <td>AAACCTGAGACCACGA-1</td>\n",
       "      <td>TRBV6-1*01</td>\n",
       "      <td>TRBD2*01</td>\n",
       "      <td>TRBJ2-1*01</td>\n",
       "      <td>TRBC2*01</td>\n",
       "      <td>CASSGLAGGYNEQFF</td>\n",
       "    </tr>\n",
       "    <tr>\n",
       "      <th>2</th>\n",
       "      <td>AAACCTGAGGCTCTTA-1</td>\n",
       "      <td>TRBV6-4*01</td>\n",
       "      <td>TRBD2*01</td>\n",
       "      <td>TRBJ2-3*01</td>\n",
       "      <td>TRBC2*01</td>\n",
       "      <td>CASSGVAGGTDTQYF</td>\n",
       "    </tr>\n",
       "    <tr>\n",
       "      <th>3</th>\n",
       "      <td>AAACCTGAGGCTCTTA-1</td>\n",
       "      <td>TRAV1-2*01</td>\n",
       "      <td>TRBD1*01</td>\n",
       "      <td>TRAJ33*01</td>\n",
       "      <td>TRAC*01</td>\n",
       "      <td>CAVKDSNYQLIW</td>\n",
       "    </tr>\n",
       "    <tr>\n",
       "      <th>4</th>\n",
       "      <td>AAACCTGAGTGAACGC-1</td>\n",
       "      <td>TRBV2*01</td>\n",
       "      <td>TRBD1*01</td>\n",
       "      <td>TRBJ1-2*01</td>\n",
       "      <td>TRBC1*01</td>\n",
       "      <td>CASNQGLNYGYTF</td>\n",
       "    </tr>\n",
       "  </tbody>\n",
       "</table>\n",
       "</div>"
      ],
      "text/plain": [
       "              barcode      v_gene    d_gene      j_gene    c_gene  \\\n",
       "0  AAACCTGAGACCACGA-1  TRAV1-2*01  TRBD1*01   TRAJ12*01   TRAC*01   \n",
       "1  AAACCTGAGACCACGA-1  TRBV6-1*01  TRBD2*01  TRBJ2-1*01  TRBC2*01   \n",
       "2  AAACCTGAGGCTCTTA-1  TRBV6-4*01  TRBD2*01  TRBJ2-3*01  TRBC2*01   \n",
       "3  AAACCTGAGGCTCTTA-1  TRAV1-2*01  TRBD1*01   TRAJ33*01   TRAC*01   \n",
       "4  AAACCTGAGTGAACGC-1    TRBV2*01  TRBD1*01  TRBJ1-2*01  TRBC1*01   \n",
       "\n",
       "              cdr3  \n",
       "0     CAVMDSSYKLIF  \n",
       "1  CASSGLAGGYNEQFF  \n",
       "2  CASSGVAGGTDTQYF  \n",
       "3     CAVKDSNYQLIW  \n",
       "4    CASNQGLNYGYTF  "
      ]
     },
     "execution_count": 3,
     "metadata": {},
     "output_type": "execute_result"
    }
   ],
   "source": [
    "new_tcrs = tcrconvert.convert_gene(tcrs, frm='tenx', to='imgt')\n",
    "new_tcrs"
   ]
  },
  {
   "cell_type": "markdown",
   "metadata": {},
   "source": [
    "> Tip: Suppress warnings by setting `quiet=True`."
   ]
  },
  {
   "cell_type": "markdown",
   "metadata": {},
   "source": [
    "**Convert back to 10X to see that no data is lost.**"
   ]
  },
  {
   "cell_type": "code",
   "execution_count": 4,
   "metadata": {},
   "outputs": [
    {
     "data": {
      "text/plain": [
       "True"
      ]
     },
     "execution_count": 4,
     "metadata": {},
     "output_type": "execute_result"
    }
   ],
   "source": [
    "back_tcrs = tcrconvert.convert_gene(new_tcrs, frm='imgt', to='tenx')\n",
    "back_tcrs.equals(tcrs)"
   ]
  },
  {
   "cell_type": "markdown",
   "metadata": {},
   "source": [
    "## Custom column names"
   ]
  },
  {
   "cell_type": "markdown",
   "metadata": {},
   "source": [
    "TCRconvert uses the gene column names below based on the `frm` parameter. Note that there are no standard IMGT column names and that Adaptive does not capture C genes.\n",
    "\n",
    "* `frm='imgt'` uses `['v_gene', 'd_gene', 'j_gene', 'c_gene']`\n",
    "* `frm='tenx'` uses `['v_gene', 'd_gene', 'j_gene', 'c_gene']`\n",
    "* `frm='adaptive'` uses `['v_resolved', 'd_resolved', 'j_resolved']`\n",
    "* `frm='adaptivev2'` uses `['vMaxResolved', 'dMaxResolved', 'jMaxResolved']`\n",
    "\n",
    "At least one of the assumed columns needs to be in the input data. You can use your own columns with the `frm_cols` parameter.\n",
    "\n",
    "If you're using AIRR-formatted files, use: `frm_cols=['v_call', 'd_call', 'j_call', 'c_call']`"
   ]
  },
  {
   "cell_type": "markdown",
   "metadata": {},
   "source": [
    "> Tip: If your Adaptive data doesn't have `x_resolved` or `xMaxResolved` columns simply make them yourself by combining text from the gene and allele columns using `*` as a seperator."
   ]
  },
  {
   "cell_type": "markdown",
   "metadata": {},
   "source": [
    "**Load 10X data with custom column names:**"
   ]
  },
  {
   "cell_type": "code",
   "execution_count": null,
   "metadata": {},
   "outputs": [
    {
     "data": {
      "text/html": [
       "<div>\n",
       "<style scoped>\n",
       "    .dataframe tbody tr th:only-of-type {\n",
       "        vertical-align: middle;\n",
       "    }\n",
       "\n",
       "    .dataframe tbody tr th {\n",
       "        vertical-align: top;\n",
       "    }\n",
       "\n",
       "    .dataframe thead th {\n",
       "        text-align: right;\n",
       "    }\n",
       "</style>\n",
       "<table border=\"1\" class=\"dataframe\">\n",
       "  <thead>\n",
       "    <tr style=\"text-align: right;\">\n",
       "      <th></th>\n",
       "      <th>myVgene</th>\n",
       "      <th>myDgene</th>\n",
       "      <th>myJgene</th>\n",
       "      <th>myCgene</th>\n",
       "      <th>myCDR3</th>\n",
       "      <th>antigen</th>\n",
       "    </tr>\n",
       "  </thead>\n",
       "  <tbody>\n",
       "    <tr>\n",
       "      <th>0</th>\n",
       "      <td>TRAV1-2</td>\n",
       "      <td>TRBD1</td>\n",
       "      <td>TRAJ12</td>\n",
       "      <td>TRAC</td>\n",
       "      <td>CAVMDSSYKLIF</td>\n",
       "      <td>Flu</td>\n",
       "    </tr>\n",
       "    <tr>\n",
       "      <th>1</th>\n",
       "      <td>TRBV6-1</td>\n",
       "      <td>TRBD2</td>\n",
       "      <td>TRBJ2-1</td>\n",
       "      <td>TRBC2</td>\n",
       "      <td>CASSGLAGGYNEQFF</td>\n",
       "      <td>Flu</td>\n",
       "    </tr>\n",
       "    <tr>\n",
       "      <th>2</th>\n",
       "      <td>TRBV6-4</td>\n",
       "      <td>TRBD2</td>\n",
       "      <td>TRBJ2-3</td>\n",
       "      <td>TRBC2</td>\n",
       "      <td>CASSGVAGGTDTQYF</td>\n",
       "      <td>CMV</td>\n",
       "    </tr>\n",
       "    <tr>\n",
       "      <th>3</th>\n",
       "      <td>TRAV1-2</td>\n",
       "      <td>TRBD1</td>\n",
       "      <td>TRAJ33</td>\n",
       "      <td>TRAC</td>\n",
       "      <td>CAVKDSNYQLIW</td>\n",
       "      <td>CMV</td>\n",
       "    </tr>\n",
       "    <tr>\n",
       "      <th>4</th>\n",
       "      <td>TRBV2</td>\n",
       "      <td>TRBD1</td>\n",
       "      <td>TRBJ1-2</td>\n",
       "      <td>TRBC1</td>\n",
       "      <td>CASNQGLNYGYTF</td>\n",
       "      <td>CMV</td>\n",
       "    </tr>\n",
       "  </tbody>\n",
       "</table>\n",
       "</div>"
      ],
      "text/plain": [
       "   myVgene myDgene  myJgene myCgene           myCDR3 antigen\n",
       "0  TRAV1-2   TRBD1   TRAJ12    TRAC     CAVMDSSYKLIF     Flu\n",
       "1  TRBV6-1   TRBD2  TRBJ2-1   TRBC2  CASSGLAGGYNEQFF     Flu\n",
       "2  TRBV6-4   TRBD2  TRBJ2-3   TRBC2  CASSGVAGGTDTQYF     CMV\n",
       "3  TRAV1-2   TRBD1   TRAJ33    TRAC     CAVKDSNYQLIW     CMV\n",
       "4    TRBV2   TRBD1  TRBJ1-2   TRBC1    CASNQGLNYGYTF     CMV"
      ]
     },
     "execution_count": 5,
     "metadata": {},
     "output_type": "execute_result"
    }
   ],
   "source": [
    "custom_file = tcrconvert.get_example_path('customcols.csv')\n",
    "\n",
    "custom = pd.read_csv(custom_file)\n",
    "custom"
   ]
  },
  {
   "cell_type": "markdown",
   "metadata": {},
   "source": [
    "**Specify names using** `frm_cols` **and convert to IMGT**:"
   ]
  },
  {
   "cell_type": "code",
   "execution_count": 6,
   "metadata": {},
   "outputs": [
    {
     "data": {
      "text/html": [
       "<div>\n",
       "<style scoped>\n",
       "    .dataframe tbody tr th:only-of-type {\n",
       "        vertical-align: middle;\n",
       "    }\n",
       "\n",
       "    .dataframe tbody tr th {\n",
       "        vertical-align: top;\n",
       "    }\n",
       "\n",
       "    .dataframe thead th {\n",
       "        text-align: right;\n",
       "    }\n",
       "</style>\n",
       "<table border=\"1\" class=\"dataframe\">\n",
       "  <thead>\n",
       "    <tr style=\"text-align: right;\">\n",
       "      <th></th>\n",
       "      <th>myVgene</th>\n",
       "      <th>myDgene</th>\n",
       "      <th>myJgene</th>\n",
       "      <th>myCgene</th>\n",
       "      <th>myCDR3</th>\n",
       "      <th>antigen</th>\n",
       "    </tr>\n",
       "  </thead>\n",
       "  <tbody>\n",
       "    <tr>\n",
       "      <th>0</th>\n",
       "      <td>TRAV1-2*01</td>\n",
       "      <td>TRBD1*01</td>\n",
       "      <td>TRAJ12*01</td>\n",
       "      <td>TRAC*01</td>\n",
       "      <td>CAVMDSSYKLIF</td>\n",
       "      <td>Flu</td>\n",
       "    </tr>\n",
       "    <tr>\n",
       "      <th>1</th>\n",
       "      <td>TRBV6-1*01</td>\n",
       "      <td>TRBD2*01</td>\n",
       "      <td>TRBJ2-1*01</td>\n",
       "      <td>TRBC2*01</td>\n",
       "      <td>CASSGLAGGYNEQFF</td>\n",
       "      <td>Flu</td>\n",
       "    </tr>\n",
       "    <tr>\n",
       "      <th>2</th>\n",
       "      <td>TRBV6-4*01</td>\n",
       "      <td>TRBD2*01</td>\n",
       "      <td>TRBJ2-3*01</td>\n",
       "      <td>TRBC2*01</td>\n",
       "      <td>CASSGVAGGTDTQYF</td>\n",
       "      <td>CMV</td>\n",
       "    </tr>\n",
       "    <tr>\n",
       "      <th>3</th>\n",
       "      <td>TRAV1-2*01</td>\n",
       "      <td>TRBD1*01</td>\n",
       "      <td>TRAJ33*01</td>\n",
       "      <td>TRAC*01</td>\n",
       "      <td>CAVKDSNYQLIW</td>\n",
       "      <td>CMV</td>\n",
       "    </tr>\n",
       "    <tr>\n",
       "      <th>4</th>\n",
       "      <td>TRBV2*01</td>\n",
       "      <td>TRBD1*01</td>\n",
       "      <td>TRBJ1-2*01</td>\n",
       "      <td>TRBC1*01</td>\n",
       "      <td>CASNQGLNYGYTF</td>\n",
       "      <td>CMV</td>\n",
       "    </tr>\n",
       "  </tbody>\n",
       "</table>\n",
       "</div>"
      ],
      "text/plain": [
       "      myVgene   myDgene     myJgene   myCgene           myCDR3 antigen\n",
       "0  TRAV1-2*01  TRBD1*01   TRAJ12*01   TRAC*01     CAVMDSSYKLIF     Flu\n",
       "1  TRBV6-1*01  TRBD2*01  TRBJ2-1*01  TRBC2*01  CASSGLAGGYNEQFF     Flu\n",
       "2  TRBV6-4*01  TRBD2*01  TRBJ2-3*01  TRBC2*01  CASSGVAGGTDTQYF     CMV\n",
       "3  TRAV1-2*01  TRBD1*01   TRAJ33*01   TRAC*01     CAVKDSNYQLIW     CMV\n",
       "4    TRBV2*01  TRBD1*01  TRBJ1-2*01  TRBC1*01    CASNQGLNYGYTF     CMV"
      ]
     },
     "execution_count": 6,
     "metadata": {},
     "output_type": "execute_result"
    }
   ],
   "source": [
    "custom_new = tcrconvert.convert_gene(custom, frm='tenx', to='imgt', quiet=True,\n",
    "                                     frm_cols=['myVgene', 'myDgene', 'myJgene', 'myCgene'])\n",
    "custom_new"
   ]
  },
  {
   "cell_type": "markdown",
   "metadata": {},
   "source": [
    "## Rhesus or mouse data"
   ]
  },
  {
   "cell_type": "markdown",
   "metadata": {},
   "source": [
    "**Specify the species if not human:**"
   ]
  },
  {
   "cell_type": "code",
   "execution_count": 7,
   "metadata": {},
   "outputs": [],
   "source": [
    "new_tcrs = tcrconvert.convert_gene(tcrs, frm='tenx', to='imgt', quiet=True,\n",
    "                                   species='rhesus')  # or 'mouse'"
   ]
  },
  {
   "cell_type": "markdown",
   "metadata": {},
   "source": [
    "## Using a custom reference"
   ]
  },
  {
   "cell_type": "markdown",
   "metadata": {},
   "source": [
    "**You may want to create a reference for a species that isn't already included**, such as rabbit. To do so, you'll need FASTA files that contain TCR gene names in the headers in this format:\n",
    "\n",
    "```\n",
    ">SomeText|TRBV10-1*02|MoreText|...\n",
    "```\n",
    "\n",
    "1. The easiest way is to download the reference FASTAs for every gene group from [IMGT](https://www.imgt.org/vquest/refseqh.html) into a folder.\n",
    "\n",
    "2. Build the lookup tables, specifying the species name you'll use when running TCRconvert:\n",
    "\n",
    "\n",
    "```python\n",
    "import(tcrconvert)\n",
    "tcrconvert.build_lookup_from_fastas('path/to/fasta/dir/', 'rabbit')\n",
    "```\n",
    "\n",
    "```\n",
    "$ tcrconvert build -i path/to/fasta/dir/ -s rabbit\n",
    "```"
   ]
  },
  {
   "cell_type": "markdown",
   "metadata": {},
   "source": [
    "**You may want to create a reference for a species that isn't already included**, such as rabbit. To do so, you'll need FASTA files that contain TCR gene names in the headers in this format:\n",
    "\n",
    "```\n",
    ">SomeText|TRBV10-1*02|MoreText|...\n",
    "```\n",
    "\n",
    "1. The simplest way to do this is to download reference FASTAs for every gene group from [IMGT](https://www.imgt.org/vquest/refseqh.html).\n",
    "\n",
    "2. Save the FASTAs to a new species folder under `tcrconvert/data/` (e.g., `tcrconvert/data/rabbit/`).\n",
    "\n",
    "3. Then, run `build_lookup_from_fastas()` from any location to create the lookup tables in that folder:\n",
    "\n",
    "```python\n",
    "import(tcrconvert)\n",
    "\n",
    "tcrconvert.build_lookup_from_fastas('path/to/tcrconvert/tcrconvert/data/rabbit/')\n",
    "```\n",
    "\n",
    "4. Re-install TCRconvert:\n",
    "\n",
    "```\n",
    "$ pip install .\n",
    "```\n",
    "\n",
    "5. When using `convert_gene()`, specify the name of the new folder for ```species=```. E.g. ```species='rabbit'```\n",
    "\n",
    "**If you just want to add genes to the existing lookup tables** you can edit the CSV files under `tcrconvert/data/` and then re-install tcrconvert. This is a bit hacky, and if you `git pull` your work may be overwritten."
   ]
  }
 ],
 "metadata": {
  "kernelspec": {
   "display_name": "tcrconvert",
   "language": "python",
   "name": "python3"
  },
  "language_info": {
   "codemirror_mode": {
    "name": "ipython",
    "version": 3
   },
   "file_extension": ".py",
   "mimetype": "text/x-python",
   "name": "python",
   "nbconvert_exporter": "python",
   "pygments_lexer": "ipython3",
   "version": "3.12.4"
  }
 },
 "nbformat": 4,
 "nbformat_minor": 2
}
